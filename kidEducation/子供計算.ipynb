{
 "cells": [
  {
   "cell_type": "markdown",
   "id": "b00c840b-5817-412e-b421-5f245cd9fe45",
   "metadata": {},
   "source": [
    "# Calculata kun"
   ]
  },
  {
   "cell_type": "code",
   "execution_count": 30,
   "id": "c12e40b5-626b-48c4-a3fc-1318d1640220",
   "metadata": {
    "tags": []
   },
   "outputs": [],
   "source": [
    "from IPython.display import display, HTML\n",
    "from ipywidgets import Button, IntText, VBox, Output, Dropdown\n",
    "from random import randint\n",
    "from PIL import Image, ImageDraw\n",
    "import expressions\n",
    "import random\n",
    "\n",
    "# Language selection\n",
    "languages = {\n",
    "    'English': {\n",
    "        'question': ' = ?',\n",
    "        'correct': 'Correct',\n",
    "        'almost': 'Almost',\n",
    "        'cheer_up': 'Cheer up',\n",
    "        'hint_button': 'Hint',\n",
    "        'circles': 'How many {0} do you have?',\n",
    "    },\n",
    "    'Japanese': {\n",
    "        'question': ' = ?',\n",
    "        'correct': '正解',\n",
    "        'almost': 'ほぼ正解',\n",
    "        'cheer_up': '頑張りましょう',\n",
    "        'hint_button': 'ヒント',\n",
    "        'circles': '{0}は何個ありますか？',\n",
    "    },\n",
    "    'Chinese': {\n",
    "        'question': ' = ?',\n",
    "        'correct': '正确',\n",
    "        'almost': '几乎正确',\n",
    "        'cheer_up': '加油',\n",
    "        'hint_button': '提示',\n",
    "        'circles': '有多少个 {0}？',\n",
    "    }\n",
    "}"
   ]
  },
  {
   "cell_type": "code",
   "execution_count": 31,
   "id": "6d5e537c-542f-4eb5-9a5f-b62bbe2cdcd8",
   "metadata": {},
   "outputs": [
    {
     "data": {
      "application/vnd.jupyter.widget-view+json": {
       "model_id": "efb8578d664e42c8a636a8fba6c005c0",
       "version_major": 2,
       "version_minor": 0
      },
      "text/plain": [
       "Dropdown(description='Select Language:', layout=Layout(width='200px'), options=('English', 'Japanese', 'Chines…"
      ]
     },
     "metadata": {},
     "output_type": "display_data"
    }
   ],
   "source": [
    "# Language selection dropdown\n",
    "language_dropdown = Dropdown(\n",
    "    options=languages.keys(),\n",
    "    description='Select Language:',\n",
    "    layout={'width': '200px'}\n",
    ")\n",
    "\n",
    "display(language_dropdown)\n"
   ]
  },
  {
   "cell_type": "markdown",
   "id": "ecadda81-8895-4e1e-a9ea-d8467a1d70f4",
   "metadata": {
    "tags": []
   },
   "source": [
    "# Select Language 言語選択"
   ]
  },
  {
   "cell_type": "code",
   "execution_count": 32,
   "id": "23ee2d95-fea7-4070-a412-f8d73ee7b0d7",
   "metadata": {},
   "outputs": [
    {
     "name": "stdout",
     "output_type": "stream",
     "text": [
      "Selected Language: Japanese\n"
     ]
    }
   ],
   "source": [
    "# Generate arithmetic expressions based on selected language\n",
    "selected_language = language_dropdown.value\n",
    "\n",
    "# Function to print selected language\n",
    "def print_selected_language(change):\n",
    "    global selected_language\n",
    "    selected_language = change['new']\n",
    "    print(f\"Selected Language: {selected_language}\")\n",
    "\n",
    "# Call the function to print selected language when the dropdown value changes\n",
    "language_dropdown.observe(print_selected_language, names='value')\n",
    "\n",
    "# Call the function to print the initial selected language\n",
    "print_selected_language({'new': selected_language})"
   ]
  },
  {
   "cell_type": "markdown",
   "id": "e1a572c5-251b-48f8-99af-1b273b69b9e2",
   "metadata": {},
   "source": [
    "#Generate step"
   ]
  },
  {
   "cell_type": "code",
   "execution_count": 33,
   "id": "1ca99c0a-42e7-491f-a26d-fb356c2b51c4",
   "metadata": {},
   "outputs": [],
   "source": [
    "# Create widgets and layout\n",
    "operators = ['+', '-', '*', '/']\n",
    "expressions = []\n",
    "\n",
    "while len(expressions) < 5:\n",
    "    num1 = random.randint(0, 100)\n",
    "    num2 = random.randint(0, 100)\n",
    "    operator = random.choice(operators)\n",
    "    if operator == '/' and num2 == 0:\n",
    "        continue  # Skip division by zero\n",
    "    expression = f\"{num1} {operator} {num2}\"\n",
    "    result = eval(expression)\n",
    "    expressions.append((expression, result))\n",
    "\n",
    "# Hint button click event\n",
    "def hint_button_clicked(b):\n",
    "    index = hint_buttons.index(b)\n",
    "    with output:\n",
    "        num_circles = hint_textboxes[index].value\n",
    "        expression = expressions[index]\n",
    "        operand1, operator, operand2 = expression[0].split()\n",
    "        operator = operator_conversion(operator)  # Convert operator symbol if needed\n",
    "        circle_marks = get_circle_marks(num_circles, operand1, operator, operand2)\n",
    "        expression_hint = f\"{operand1} {operator} {operand2}: {circle_marks}\"\n",
    "        hint_textboxes[index].description = expression_hint"
   ]
  },
  {
   "cell_type": "markdown",
   "id": "881a03a8-6ff0-4dc8-84b6-0295d581fa19",
   "metadata": {},
   "source": [
    "# Create layout step"
   ]
  },
  {
   "cell_type": "code",
   "execution_count": 34,
   "id": "0ebdcb03-4e43-4c98-a72b-0eea7f7e6199",
   "metadata": {},
   "outputs": [],
   "source": [
    "# Operator conversion function\n",
    "def operator_conversion(operator):\n",
    "    if operator == '+':\n",
    "        return '＋'\n",
    "    elif operator == '-':\n",
    "        return '－'\n",
    "    elif operator == '*':\n",
    "        return '×'\n",
    "    elif operator == '/':\n",
    "        return '÷'\n",
    "    else:\n",
    "        return operator"
   ]
  },
  {
   "cell_type": "markdown",
   "id": "03b7c9b5-bc4d-4deb-9664-721551a01754",
   "metadata": {},
   "source": [
    "# Hint (if you know, pass this step"
   ]
  },
  {
   "cell_type": "code",
   "execution_count": 35,
   "id": "fd2a6827-ae25-46dc-b9fa-f05fbd428df0",
   "metadata": {},
   "outputs": [],
   "source": [
    "# Get circle marks based on calculation\n",
    "def get_circle_marks(num_circles, operand1, operator, operand2):\n",
    "    result = calculate_result(operand1, operator, operand2)\n",
    "    if result is not None:\n",
    "        result_str = str(result)\n",
    "        circle_marks = \"〇\" * len(result_str) + \"●\" * (num_circles - len(result_str))\n",
    "    else:\n",
    "        circle_marks = \"●\" * num_circles\n",
    "    return circle_marks\n"
   ]
  },
  {
   "cell_type": "markdown",
   "id": "53948841-93c0-484d-9c29-02dd1d259618",
   "metadata": {},
   "source": [
    "# Add click events to hint buttons"
   ]
  },
  {
   "cell_type": "code",
   "execution_count": 36,
   "id": "0402baca-d750-4743-9fa7-3268b17a6708",
   "metadata": {},
   "outputs": [],
   "source": [
    "# Calculate the result of the expression\n",
    "def calculate_result(operand1, operator, operand2):\n",
    "    try:\n",
    "        operand1 = int(operand1)\n",
    "        operand2 = int(operand2)\n",
    "        if operator == '+':\n",
    "            return operand1 + operand2\n",
    "        elif operator == '-':\n",
    "            return operand1 - operand2\n",
    "        elif operator == '*':\n",
    "            return operand1 * operand2\n",
    "        elif operator == '/':\n",
    "            if operand2 != 0:\n",
    "                return operand1 / operand2\n",
    "            else:\n",
    "                return None\n",
    "    except:\n",
    "        return None\n"
   ]
  },
  {
   "cell_type": "markdown",
   "id": "bed37f5d-7488-497f-b53b-60aec3a9a809",
   "metadata": {},
   "source": [
    "# Generate circle image"
   ]
  },
  {
   "cell_type": "code",
   "execution_count": 37,
   "id": "e1ba51e4-2746-484d-981b-01351c3808e9",
   "metadata": {},
   "outputs": [],
   "source": [
    "# Generate circle image\n",
    "def generate_circle_image(num_circles, operator, result):\n",
    "    image_size = (150, 150)\n",
    "    circle_color_black = (0, 0, 0)\n",
    "    circle_color_white = (255, 255, 255)\n",
    "    circle_radius = 25\n",
    "    padding = 10\n",
    "\n",
    "    image = Image.new(\"RGB\", image_size, circle_color_white)\n",
    "    draw = ImageDraw.Draw(image)\n",
    "\n",
    "    result_digits = len(str(result))  # Number of digits in the result\n",
    "\n",
    "    if result_digits <= num_circles:\n",
    "        num_black_circles = result_digits\n",
    "        num_white_circles = num_circles - result_digits\n",
    "    else:\n",
    "        num_black_circles = num_circles\n",
    "        num_white_circles = 0\n",
    "\n",
    "    x_start = (image_size[0] - (circle_radius * 2 + padding) * num_circles) // 2\n",
    "\n",
    "    # Draw black circles\n",
    "    for i in range(num_black_circles):\n",
    "        x = x_start + (circle_radius * 2 + padding) * i\n",
    "        y = image_size[1] // 2\n",
    "        draw.ellipse((x, y, x + circle_radius * 2, y + circle_radius * 2), fill=circle_color_black)\n",
    "\n",
    "    # Draw white circles or dots\n",
    "    if num_white_circles > 0:\n",
    "        if num_white_circles <= 5:\n",
    "            for i in range(num_white_circles):\n",
    "                x = x_start + (circle_radius * 2 + padding) * (i + num_black_circles)\n",
    "                y = image_size[1] // 2\n",
    "                draw.ellipse((x, y, x + circle_radius * 2, y + circle_radius * 2), fill=circle_color_white)\n",
    "        else:\n",
    "            text = \"....\"  # Show dots for insufficient space\n",
    "            draw.text((x_start, y), text, fill=circle_color_black)\n",
    "\n",
    "    if operator == '/':\n",
    "        draw.text((image_size[0] // 2, image_size[1] // 2), '／', fill=circle_color_black)\n",
    "\n",
    "    return image\n",
    "\n",
    "# Rest of the code...\n"
   ]
  },
  {
   "cell_type": "code",
   "execution_count": 38,
   "id": "2b05a026-2c57-49f5-969b-af7a4621bca3",
   "metadata": {},
   "outputs": [],
   "source": [
    "# Add click events to hint buttons\n",
    "for i, button in enumerate(hint_buttons):\n",
    "    button.on_click(hint_button_clicked)\n",
    "\n",
    "# Generate circle image\n",
    "def generate_circle_image(num_circles, operator):\n",
    "    image_size = (150, 150)\n",
    "    circle_color_black = (0, 0, 0)\n",
    "    circle_color_white = (255, 255, 255)\n",
    "    circle_radius = 25\n",
    "    padding = 10\n",
    "\n",
    "    image = Image.new(\"RGB\", image_size, circle_color_white)\n",
    "    draw = ImageDraw.Draw(image)\n",
    "\n",
    "    num_black_circles = min(num_circles, 5)  # Limit black circles to a maximum of 5\n",
    "    num_white_circles = max(0, num_circles - 5)  # Calculate the number of remaining white circles\n",
    "\n",
    "    x_start = (image_size[0] - (circle_radius * 2 + padding) * 5) // 2\n",
    "\n",
    "    # Draw black circles\n",
    "    for i in range(num_black_circles):\n",
    "        x = x_start + (circle_radius * 2 + padding) * i\n",
    "        y = image_size[1] // 2\n",
    "        draw.ellipse((x, y, x + circle_radius * 2, y + circle_radius * 2), fill=circle_color_black)\n",
    "\n",
    "    # Draw white circles\n",
    "    for i in range(num_white_circles):\n",
    "        x = x_start + (circle_radius * 2 + padding) * (i + num_black_circles)\n",
    "        y = image_size[1] // 2\n",
    "        draw.ellipse((x, y, x + circle_radius * 2, y + circle_radius * 2), fill=circle_color_white)\n",
    "\n",
    "    if operator == '/':\n",
    "        draw.text((image_size[0] // 2, image_size[1] // 2), '／', fill=circle_color_black)\n",
    "\n",
    "    return image\n"
   ]
  },
  {
   "cell_type": "code",
   "execution_count": 39,
   "id": "1e3ae476-6452-4f3f-8d0f-291120d1ffd6",
   "metadata": {},
   "outputs": [
    {
     "data": {
      "application/vnd.jupyter.widget-view+json": {
       "model_id": "a2277ee0852c4a0db60c8246839dccf2",
       "version_major": 2,
       "version_minor": 0
      },
      "text/plain": [
       "VBox(children=(VBox(children=(IntText(value=0, description='23 * 78 = ?'), Button(description='ヒント', layout=La…"
      ]
     },
     "metadata": {},
     "output_type": "display_data"
    },
    {
     "data": {
      "application/vnd.jupyter.widget-view+json": {
       "model_id": "96860e3d0e7942fa905f0844c641f41c",
       "version_major": 2,
       "version_minor": 0
      },
      "text/plain": [
       "Output()"
      ]
     },
     "metadata": {},
     "output_type": "display_data"
    }
   ],
   "source": [
    "# Create widgets and layout\n",
    "output = Output()\n",
    "hint_textboxes = [IntText(description='Circle', value=None, disabled=True) for _ in range(5)]\n",
    "hint_buttons = [Button(description=languages[selected_language]['hint_button'], layout={'width': 'auto'}) for _ in range(5)]\n",
    "questions = [IntText(description=expr[0] + languages[selected_language]['question']) for expr in expressions]\n",
    "\n",
    "vbox_list = []\n",
    "for i in range(5):\n",
    "    vbox = VBox([questions[i], hint_buttons[i], hint_textboxes[i]])\n",
    "    vbox_list.append(vbox)\n",
    "\n",
    "final_vbox = VBox(vbox_list)\n",
    "display(final_vbox)\n",
    "display(output)\n"
   ]
  },
  {
   "cell_type": "code",
   "execution_count": 40,
   "id": "d8e61570-052a-4bf6-87e8-a2771c28670b",
   "metadata": {},
   "outputs": [],
   "source": [
    "# Calculate button click event\n",
    "def calculate_button_clicked(b):\n",
    "    with output:\n",
    "        results = []\n",
    "        for i, expr in enumerate(expressions):\n",
    "            user_answer = questions[i].value\n",
    "            if user_answer == expr[1]:\n",
    "                results.append(languages[selected_language]['correct'])\n",
    "            elif abs(user_answer - expr[1]) <= 0.2 * abs(expr[1]):\n",
    "                results.append(languages[selected_language]['almost'])\n",
    "            else:\n",
    "                results.append(languages[selected_language]['cheer_up'])\n",
    "        display(HTML('<br>'.join(results)))\n",
    "\n",
    "# Create calculate button\n",
    "calculate_button = Button(description='Calculate Result')\n",
    "calculate_button.on_click(calculate_button_clicked)\n",
    "\n",
    "# Add calculate button to the layout\n",
    "final_vbox.children += (calculate_button,)\n"
   ]
  },
  {
   "cell_type": "code",
   "execution_count": null,
   "id": "3a8acd2d-9437-4e93-8f44-56ea9d4d4412",
   "metadata": {},
   "outputs": [],
   "source": []
  }
 ],
 "metadata": {
  "kernelspec": {
   "display_name": "Python 3 (ipykernel)",
   "language": "python",
   "name": "python3"
  },
  "language_info": {
   "codemirror_mode": {
    "name": "ipython",
    "version": 3
   },
   "file_extension": ".py",
   "mimetype": "text/x-python",
   "name": "python",
   "nbconvert_exporter": "python",
   "pygments_lexer": "ipython3",
   "version": "3.7.16"
  }
 },
 "nbformat": 4,
 "nbformat_minor": 5
}

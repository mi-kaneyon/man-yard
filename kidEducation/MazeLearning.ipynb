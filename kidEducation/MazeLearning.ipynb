{
 "cells": [
  {
   "cell_type": "markdown",
   "id": "8da42b46-e95f-4e4b-aeed-2229664693f7",
   "metadata": {},
   "source": [
    "# Maze training”observation skills”　迷路学習"
   ]
  },
  {
   "cell_type": "markdown",
   "id": "45c6eb84-2854-445c-be32-43fc131c1d6a",
   "metadata": {
    "tags": []
   },
   "source": [
    "  ##   __init__: Initialize the Maze with given width and height, and generates a new maze.\n",
    "\n",
    "  ##  generate_maze: Generates a maze with the start and goal points, and some obstacles.\n",
    "\n",
    "  ##  print_maze: Prints the current state of the maze.\n",
    "\n",
    " ##   move_player: Moves the player in the given direction, if the move is valid.\n",
    "\n",
    "  ## check_goal: Checks if the player has reached the goal."
   ]
  },
  {
   "cell_type": "code",
   "execution_count": 20,
   "id": "fc6067d4-5ab0-44e6-9f4e-538bc14e62bd",
   "metadata": {
    "tags": []
   },
   "outputs": [],
   "source": [
    "import random\n",
    "import ipywidgets as widgets\n",
    "from IPython.display import display"
   ]
  },
  {
   "cell_type": "code",
   "execution_count": 21,
   "id": "5dae8b2d-7be8-4f79-9d21-45522755c83c",
   "metadata": {},
   "outputs": [],
   "source": [
    "class Maze:\n",
    "    def __init__(self, width, height, cell_size):\n",
    "        self.width = width\n",
    "        self.height = height\n",
    "        self.cell_size = cell_size\n",
    "        self.player_pos = [0, 0]\n",
    "        self.maze = self.generate_maze()\n",
    "        self.maze_widget = None  # Add maze_widget attribute\n",
    "\n",
    "    def generate_maze(self):\n",
    "        maze = [[' ' for _ in range(self.width)] for _ in range(self.height)]\n",
    "        maze[0][0] = '☆'\n",
    "        maze[self.height - 1][self.width - 1] = '◎'\n",
    "        for _ in range(self.width * self.height // 4):\n",
    "            while True:\n",
    "                x = random.randint(0, self.width - 1)\n",
    "                y = random.randint(0, self.height - 1)\n",
    "                if maze[y][x] == ' ':\n",
    "                    maze[y][x] = '■'\n",
    "                    break\n",
    "        return maze\n",
    "\n",
    "    def move_player(self, x, y):\n",
    "        if self.maze[y][x] not in ['■', '/']:\n",
    "            self.maze[self.player_pos[1]][self.player_pos[0]] = '/'\n",
    "            self.player_pos = [x, y]\n",
    "            self.maze[y][x] = '☆'\n",
    "            self.update_maze_widget()\n",
    "        else:\n",
    "            print(\"Can't move in that direction!\")\n",
    "\n",
    "    def check_goal(self):\n",
    "        return self.player_pos == [self.width - 1, self.height - 1]\n",
    "\n",
    "    def update_maze_widget(self):\n",
    "        if self.maze_widget is not None:  # Check if maze_widget is created\n",
    "            self.maze_widget.value = self.generate_maze_html()\n",
    "\n",
    "    def generate_maze_html(self):\n",
    "        cell_width = f'{self.cell_size}px'\n",
    "        cell_height = f'{self.cell_size}px'\n",
    "        maze_html = '<table style=\"border-collapse: collapse;\">'\n",
    "        for row in self.maze:\n",
    "            maze_html += '<tr>'\n",
    "            for cell in row:\n",
    "                maze_html += f'<td style=\"width:{cell_width}; height:{cell_height}; text-align:center; border: 1px solid black;\">{cell}</td>'\n",
    "            maze_html += '</tr>'\n",
    "        maze_html += '</table>'\n",
    "        return maze_html"
   ]
  },
  {
   "cell_type": "markdown",
   "id": "1d15f3e6-2990-49d6-b11a-2b1c5716c26c",
   "metadata": {},
   "source": [
    "# Markdown to describe how to play the game"
   ]
  },
  {
   "cell_type": "markdown",
   "id": "b055ec49-bd5b-4560-a600-adeaf7ba70b4",
   "metadata": {},
   "source": [
    "To play the game, input a direction (up, down, left, or right) to move in the maze. You can't move into obstacles (marked with '■') or backtrack (cells you've already visited are marked with '/'). The goal of the game is to navigate through the maze and reach the end goal (marked with '◎')."
   ]
  },
  {
   "cell_type": "markdown",
   "id": "e8ad80d1-2b5c-42cd-a45d-55a931f8d3ea",
   "metadata": {
    "tags": []
   },
   "source": [
    "# Run the game with input for maze size"
   ]
  },
  {
   "cell_type": "code",
   "execution_count": 22,
   "id": "bee3ee58-a847-4dc0-8ef6-0b6aca590c78",
   "metadata": {},
   "outputs": [
    {
     "data": {
      "application/vnd.jupyter.widget-view+json": {
       "model_id": "64f52149111646db853d168186ffc6ef",
       "version_major": 2,
       "version_minor": 0
      },
      "text/plain": [
       "IntText(value=10, description='Width:')"
      ]
     },
     "metadata": {},
     "output_type": "display_data"
    },
    {
     "data": {
      "application/vnd.jupyter.widget-view+json": {
       "model_id": "812cd9d1403a4c98ac6e88fd219de077",
       "version_major": 2,
       "version_minor": 0
      },
      "text/plain": [
       "IntText(value=10, description='Height:')"
      ]
     },
     "metadata": {},
     "output_type": "display_data"
    },
    {
     "data": {
      "application/vnd.jupyter.widget-view+json": {
       "model_id": "81efcc769f5348d0a8238faf9e7b9d60",
       "version_major": 2,
       "version_minor": 0
      },
      "text/plain": [
       "IntSlider(value=30, description='Cell Size:', max=50, min=10, step=5)"
      ]
     },
     "metadata": {},
     "output_type": "display_data"
    },
    {
     "data": {
      "application/vnd.jupyter.widget-view+json": {
       "model_id": "7c4d82da7f1c4685876dc0f72b635000",
       "version_major": 2,
       "version_minor": 0
      },
      "text/plain": [
       "Button(description='Start', style=ButtonStyle())"
      ]
     },
     "metadata": {},
     "output_type": "display_data"
    }
   ],
   "source": [
    "def make_move(btn):\n",
    "    x = btn.x\n",
    "    y = btn.y\n",
    "    game.move_player(x, y)\n",
    "    if game.check_goal():\n",
    "        print(\"You've reached the goal, congratulations!\")\n",
    "\n",
    "def create_maze_widget(width, height, cell_size):\n",
    "    game = Maze(width, height, cell_size)\n",
    "    game.maze_widget = widgets.HTML(value=game.generate_maze_html(), layout={'width': f'{width * cell_size}px'})\n",
    "    buttons = [[None for _ in range(width)] for _ in range(height)]\n",
    "    for i in range(height):\n",
    "        for j in range(width):\n",
    "            button_description = game.maze[i][j]  # Set button description based on maze cells\n",
    "            buttons[i][j] = widgets.Button(description=button_description, layout={'width': f'{cell_size}px', 'height': f'{cell_size}px'})\n",
    "            buttons[i][j].x = j\n",
    "            buttons[i][j].y = i\n",
    "            buttons[i][j].on_click(make_move)\n",
    "            display(buttons[i][j])\n",
    "    display(game.maze_widget)\n",
    "    return game\n",
    "\n",
    "\n",
    "width_widget = widgets.IntText(description='Width:', value=10)\n",
    "height_widget = widgets.IntText(description='Height:', value=10)\n",
    "cell_size_widget = widgets.IntSlider(description='Cell Size:', value=30, min=10, max=50, step=5)\n",
    "\n",
    "display(width_widget)\n",
    "display(height_widget)\n",
    "display(cell_size_widget)\n",
    "\n",
    "start_button = widgets.Button(description='Start')\n",
    "display(start_button)\n",
    "\n",
    "def start_button_clicked(btn):\n",
    "    width = int(width_widget.value)\n",
    "    height = int(height_widget.value)\n",
    "    cell_size = int(cell_size_widget.value)\n",
    "\n",
    "    # Create the maze widget\n",
    "    maze = create_maze_widget(width, height, cell_size)\n",
    "    \n",
    "    # Create a VBox layout to hold the start button, code box, and maze\n",
    "    display_layout = VBox([start_button])\n",
    "    \n",
    "    # Create the code box and add it to the layout\n",
    "    code_box = widgets.Output(layout=widgets.Layout(height='200px', overflow_y='auto'))\n",
    "    display_layout.children += (code_box,)\n",
    "    \n",
    "    # Display the layout\n",
    "    display.display(display_layout)\n",
    "    \n",
    "    # Disable input widgets and start button\n",
    "    width_widget.disabled = True\n",
    "    height_widget.disabled = True\n",
    "    cell_size_widget.disabled = True\n",
    "    start_button.disabled = True\n",
    "    \n",
    "    # Simulate some code execution\n",
    "    with code_box:\n",
    "        print(\"Running code...\")\n",
    "        time.sleep(5)  # Simulating some time-consuming operation\n",
    "        print(\"Code execution complete.\")\n",
    "        \n",
    "        # Add the maze widget after code execution\n",
    "        display_layout.children += (maze,)\n",
    "\n",
    "# Attach the event handler to the start button\n",
    "start_button.on_click(start_button_clicked)\n"
   ]
  },
  {
   "cell_type": "markdown",
   "id": "4cd28999-af1a-407b-9445-d2269c182177",
   "metadata": {
    "tags": []
   },
   "source": [
    "# maze"
   ]
  },
  {
   "cell_type": "code",
   "execution_count": 23,
   "id": "84d2259c-2651-4eef-8d59-aa65f9f3fdbb",
   "metadata": {},
   "outputs": [
    {
     "data": {
      "application/vnd.jupyter.widget-view+json": {
       "model_id": "231edb29e36e4b2ea045898a48b92fe7",
       "version_major": 2,
       "version_minor": 0
      },
      "text/plain": [
       "VBox(children=(VBox(children=(IntSlider(value=5, description='Width:', max=10, min=1), IntSlider(value=5, desc…"
      ]
     },
     "metadata": {},
     "output_type": "display_data"
    }
   ],
   "source": [
    "import numpy as np\n",
    "import random\n",
    "import matplotlib.pyplot as plt\n",
    "from IPython.display import display\n",
    "from ipywidgets import Button, Layout, VBox, Output\n",
    "\n",
    "def create_maze_widget(width, height, cell_size):\n",
    "    maze = np.zeros((height, width))\n",
    "    \n",
    "    for i in range(height):\n",
    "        for j in range(width):\n",
    "            if random.random() < 0.3:\n",
    "                maze[i, j] = 1\n",
    "    \n",
    "    plt.figure(figsize=(width, height))\n",
    "    plt.imshow(maze, cmap='gray')\n",
    "    plt.xticks([])\n",
    "    plt.yticks([])\n",
    "    plt.grid(color='black', linewidth=1)\n",
    "    plt.show()\n",
    "\n",
    "width_widget = widgets.IntSlider(min=1, max=10, value=5, description='Width:')\n",
    "height_widget = widgets.IntSlider(min=1, max=10, value=5, description='Height:')\n",
    "cell_size_widget = widgets.IntSlider(min=10, max=50, value=30, description='Cell Size:')\n",
    "\n",
    "def start_button_clicked(btn):\n",
    "    width = width_widget.value\n",
    "    height = height_widget.value\n",
    "    cell_size = cell_size_widget.value\n",
    "\n",
    "    game = create_maze_widget(width, height, cell_size)\n",
    "    width_widget.disabled = True\n",
    "    height_widget.disabled = True\n",
    "    cell_size_widget.disabled = True\n",
    "    start_button.disabled = True\n",
    "\n",
    "    with maze_output:\n",
    "        maze_output.clear_output(wait=True)\n",
    "        display(game)\n",
    "\n",
    "maze_output = Output()\n",
    "\n",
    "input_widgets = VBox([width_widget, height_widget, cell_size_widget, start_button])\n",
    "display(VBox([input_widgets, maze_output]))\n"
   ]
  },
  {
   "cell_type": "code",
   "execution_count": null,
   "id": "c356a63f-d014-4462-9ca3-fc942922d500",
   "metadata": {},
   "outputs": [
    {
     "name": "stdout",
     "output_type": "stream",
     "text": [
      "Can't move in that direction!\n",
      "Can't move in that direction!\n"
     ]
    }
   ],
   "source": [
    "import tkinter as tk\n",
    "import random\n",
    "\n",
    "class Maze:\n",
    "    def __init__(self, width, height):\n",
    "        self.width = width\n",
    "        self.height = height\n",
    "        self.player_pos = [0, 0]\n",
    "        self.maze = self.generate_maze()\n",
    "\n",
    "    def generate_maze(self):\n",
    "        maze = [[' ' for _ in range(self.width)] for _ in range(self.height)]\n",
    "        maze[0][0] = '☆'\n",
    "        maze[self.height-1][self.width-1] = '◎'\n",
    "        for _ in range(self.width*self.height//4):\n",
    "            while True:\n",
    "                x = random.randint(0, self.width-1)\n",
    "                y = random.randint(0, self.height-1)\n",
    "                if maze[y][x] == ' ':\n",
    "                    maze[y][x] = '■'\n",
    "                    break\n",
    "        return maze\n",
    "\n",
    "    def move_player(self, x, y):\n",
    "        if self.maze[y][x] not in ['■', '/']:\n",
    "            self.maze[self.player_pos[1]][self.player_pos[0]] = '/'\n",
    "            self.player_pos = [x, y]\n",
    "            self.maze[y][x] = '☆'\n",
    "        else:\n",
    "            print(\"Can't move in that direction!\")\n",
    "\n",
    "    def check_goal(self):\n",
    "        return self.player_pos == [self.width-1, self.height-1]\n",
    "\n",
    "\n",
    "def make_move(x, y):\n",
    "    game.move_player(x, y)\n",
    "    # Update button grid here\n",
    "    for i in range(height):\n",
    "        for j in range(width):\n",
    "            buttons[i][j]['text'] = game.maze[i][j]\n",
    "    if game.check_goal():\n",
    "        print(\"You've reached the goal, congratulations!\")\n",
    "\n",
    "\n",
    "width, height = 10, 10\n",
    "game = Maze(width, height)\n",
    "window = tk.Tk()\n",
    "buttons = [[None for _ in range(width)] for _ in range(height)]\n",
    "for i in range(height):\n",
    "    for j in range(width):\n",
    "        buttons[i][j] = tk.Button(window, text=game.maze[i][j], command=lambda x=j, y=i: make_move(x, y))\n",
    "        buttons[i][j].grid(row=i, column=j)\n",
    "window.mainloop()\n"
   ]
  },
  {
   "cell_type": "code",
   "execution_count": null,
   "id": "abf2e731-ed5b-4c02-9951-3f4901aab4c3",
   "metadata": {},
   "outputs": [],
   "source": []
  }
 ],
 "metadata": {
  "kernelspec": {
   "display_name": "Python 3 (ipykernel)",
   "language": "python",
   "name": "python3"
  },
  "language_info": {
   "codemirror_mode": {
    "name": "ipython",
    "version": 3
   },
   "file_extension": ".py",
   "mimetype": "text/x-python",
   "name": "python",
   "nbconvert_exporter": "python",
   "pygments_lexer": "ipython3",
   "version": "3.7.16"
  }
 },
 "nbformat": 4,
 "nbformat_minor": 5
}

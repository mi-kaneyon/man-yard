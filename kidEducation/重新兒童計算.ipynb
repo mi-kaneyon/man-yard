{
 "cells": [
  {
   "cell_type": "markdown",
   "id": "b00c840b-5817-412e-b421-5f245cd9fe45",
   "metadata": {},
   "source": [
    "# Calculatar 重新版"
   ]
  },
  {
   "cell_type": "code",
   "execution_count": 1,
   "id": "c12e40b5-626b-48c4-a3fc-1318d1640220",
   "metadata": {
    "jupyter": {
     "source_hidden": true
    },
    "tags": []
   },
   "outputs": [],
   "source": [
    "from IPython.display import display, HTML, clear_output\n",
    "from ipywidgets import Button, IntText, VBox, Output, Dropdown\n",
    "from random import randint\n",
    "from PIL import Image, ImageDraw\n",
    "import expressions\n",
    "import random\n",
    "\n",
    "\n",
    "# Language selection\n",
    "languages = {\n",
    "    'English': {\n",
    "        'question': ' = ?',\n",
    "        'correct': 'Correct',\n",
    "        'almost': 'Almost',\n",
    "        'cheer_up': 'Cheer up',\n",
    "        'hint_button': 'Hint',\n",
    "        'circles': 'How many {0} do you have?',\n",
    "        'answer_button': 'Answer',  \n",
    "    },\n",
    "    'Japanese': {\n",
    "        'question': ' = ?',\n",
    "        'correct': '正解',\n",
    "        'almost': 'ほぼ正解',\n",
    "        'cheer_up': '頑張りましょう',\n",
    "        'hint_button': 'ヒント',\n",
    "        'circles': '{0}は何個ありますか？',\n",
    "        'answer_button': '答え',  \n",
    "    },\n",
    "    'Chinese': {\n",
    "        'question': ' = ?',\n",
    "        'correct': '正确',\n",
    "        'almost': '几乎正确',\n",
    "        'cheer_up': '加油',\n",
    "        'hint_button': '提示',\n",
    "        'circles': '有多少个 {0}？',\n",
    "        'answer_button': '答案',\n",
    "    }\n",
    "}"
   ]
  },
  {
   "cell_type": "code",
   "execution_count": 2,
   "id": "6d5e537c-542f-4eb5-9a5f-b62bbe2cdcd8",
   "metadata": {},
   "outputs": [
    {
     "data": {
      "application/vnd.jupyter.widget-view+json": {
       "model_id": "77bb083927474b12a57751c4c3e05373",
       "version_major": 2,
       "version_minor": 0
      },
      "text/plain": [
       "Dropdown(description='Select Language:', layout=Layout(width='200px'), options=('English', 'Japanese', 'Chines…"
      ]
     },
     "metadata": {},
     "output_type": "display_data"
    }
   ],
   "source": [
    "# Language selection dropdown\n",
    "language_dropdown = Dropdown(\n",
    "    options=languages.keys(),\n",
    "    description='Select Language:',\n",
    "    layout={'width': '200px'}\n",
    ")\n",
    "\n",
    "display(language_dropdown)"
   ]
  },
  {
   "cell_type": "markdown",
   "id": "ecadda81-8895-4e1e-a9ea-d8467a1d70f4",
   "metadata": {
    "tags": []
   },
   "source": [
    "# Select Language 言語選択"
   ]
  },
  {
   "cell_type": "code",
   "execution_count": 3,
   "id": "23ee2d95-fea7-4070-a412-f8d73ee7b0d7",
   "metadata": {},
   "outputs": [
    {
     "name": "stdout",
     "output_type": "stream",
     "text": [
      "Selected Language: Japanese\n"
     ]
    }
   ],
   "source": [
    "# Generate arithmetic expressions based on selected language\n",
    "selected_language = language_dropdown.value\n",
    "\n",
    "# Function to print selected language\n",
    "def print_selected_language(change):\n",
    "    global selected_language\n",
    "    selected_language = change['new']\n",
    "    print(f\"Selected Language: {selected_language}\")\n",
    "\n",
    "# Call the function to print selected language when the dropdown value changes\n",
    "language_dropdown.observe(print_selected_language, names='value')\n",
    "\n",
    "# Call the function to print the initial selected language\n",
    "print_selected_language({'new': selected_language})"
   ]
  },
  {
   "cell_type": "markdown",
   "id": "e1a572c5-251b-48f8-99af-1b273b69b9e2",
   "metadata": {},
   "source": [
    "# Generate step"
   ]
  },
  {
   "cell_type": "code",
   "execution_count": 4,
   "id": "1ca99c0a-42e7-491f-a26d-fb356c2b51c4",
   "metadata": {},
   "outputs": [],
   "source": [
    "# Create widgets and layout\n",
    "operators = ['+', '-', '*', '/']\n",
    "expressions = []\n",
    "\n",
    "while len(expressions) < 5:\n",
    "    num1 = random.randint(1, 10)\n",
    "    num2 = random.randint(1, 10)\n",
    "    operator = random.choice(operators)\n",
    "    if operator == '/':\n",
    "        # Ensure integer division result\n",
    "        num1 = num1 * num2\n",
    "    expression = f\"{num1} {operator} {num2}\"\n",
    "    result = eval(expression)\n",
    "    # Ensure the result is an integer and less than 100\n",
    "    if isinstance(result, int) and result < 100:\n",
    "        expressions.append((expression, result))"
   ]
  },
  {
   "cell_type": "markdown",
   "id": "881a03a8-6ff0-4dc8-84b6-0295d581fa19",
   "metadata": {},
   "source": [
    "# Create layout step"
   ]
  },
  {
   "cell_type": "code",
   "execution_count": 5,
   "id": "0ebdcb03-4e43-4c98-a72b-0eea7f7e6199",
   "metadata": {},
   "outputs": [],
   "source": [
    "# Hint button click event\n",
    "def hint_button_clicked(b):\n",
    "    index = hint_buttons.index(b)\n",
    "    with output:\n",
    "        num_circles = hint_textboxes[index].value\n",
    "        expression = expressions[index]\n",
    "        operand1, operator, operand2 = expression[0].split()\n",
    "        operator = operator_conversion(operator)  # Convert operator symbol if needed\n",
    "        circle_marks = get_circle_marks(num_circles, operand1, operator, operand2)\n",
    "        expression_hint = f\"{operand1} {operator} {operand2}: {circle_marks}\"\n",
    "        hint_textboxes[index].description = expression_hint"
   ]
  },
  {
   "cell_type": "markdown",
   "id": "03b7c9b5-bc4d-4deb-9664-721551a01754",
   "metadata": {},
   "source": [
    "# Hint (if you know, pass this step"
   ]
  },
  {
   "cell_type": "code",
   "execution_count": 6,
   "id": "fd2a6827-ae25-46dc-b9fa-f05fbd428df0",
   "metadata": {},
   "outputs": [],
   "source": [
    "# Operator conversion function\n",
    "def operator_conversion(operator):\n",
    "    if operator == '+':\n",
    "        return '＋'\n",
    "    elif operator == '-':\n",
    "        return '－'\n",
    "    elif operator == '*':\n",
    "        return '×'\n",
    "    elif operator == '/':\n",
    "        return '÷'\n",
    "    else:\n",
    "        return operator\n",
    "\n",
    "# Get circle marks based on calculation\n",
    "def get_circle_marks(num_circles, operand1, operator, operand2):\n",
    "    result = calculate_result(operand1, operator, operand2)\n",
    "    if result is not None:\n",
    "        result_str = str(result)\n",
    "        circle_marks = \"〇\" * len(result_str) + \"●\" * (num_circles - len(result_str))\n",
    "        return circle_marks\n",
    "    else:\n",
    "        return \"Invalid calculation\""
   ]
  },
  {
   "cell_type": "markdown",
   "id": "53948841-93c0-484d-9c29-02dd1d259618",
   "metadata": {},
   "source": [
    "# Add click events to hint buttons"
   ]
  },
  {
   "cell_type": "code",
   "execution_count": 7,
   "id": "0402baca-d750-4743-9fa7-3268b17a6708",
   "metadata": {},
   "outputs": [],
   "source": [
    "# Calculate result function\n",
    "def calculate_result(operand1, operator, operand2):\n",
    "    try:\n",
    "        result = eval(f\"{operand1} {operator} {operand2}\")\n",
    "        return result\n",
    "    except Exception as e:\n",
    "        print(f\"Error in calculation: {e}\")\n",
    "        return None\n"
   ]
  },
  {
   "cell_type": "markdown",
   "id": "bed37f5d-7488-497f-b53b-60aec3a9a809",
   "metadata": {},
   "source": [
    "# Generate circle image(普通算法）"
   ]
  },
  {
   "cell_type": "code",
   "execution_count": 8,
   "id": "e1ba51e4-2746-484d-981b-01351c3808e9",
   "metadata": {},
   "outputs": [
    {
     "data": {
      "application/vnd.jupyter.widget-view+json": {
       "model_id": "9c094adba2ab4f64b4962e08b8074caa",
       "version_major": 2,
       "version_minor": 0
      },
      "text/plain": [
       "VBox(children=(IntText(value=0, description='8 + 7 = ?'), Button(description='ヒント', style=ButtonStyle()), IntT…"
      ]
     },
     "metadata": {},
     "output_type": "display_data"
    },
    {
     "data": {
      "application/vnd.jupyter.widget-view+json": {
       "model_id": "a640d648e91c41e68299a2b4df27a66e",
       "version_major": 2,
       "version_minor": 0
      },
      "text/plain": [
       "Output()"
      ]
     },
     "metadata": {},
     "output_type": "display_data"
    }
   ],
   "source": [
    "# Define the hint generation function\n",
    "def generate_hint(operand1, operator, operand2):\n",
    "    # Convert operands to integers\n",
    "    operand1 = int(operand1)\n",
    "    operand2 = int(operand2)\n",
    "    # Generate hint based on operator\n",
    "    if operator == '＋':\n",
    "        return '●' * operand1 + ' ' + operator + ' ' + '〇' * operand2\n",
    "    elif operator == '－':\n",
    "        return '●' * operand1 + ' ' + operator + ' ' + '〇' * operand2\n",
    "    elif operator == '×':\n",
    "        return ' + '.join(['●' * operand1 for _ in range(operand2)])\n",
    "    elif operator == '÷':\n",
    "        if operand2 != 0:\n",
    "            return ' - '.join(['●' * operand2 for _ in range(operand1 // operand2)])\n",
    "\n",
    "# Define the button click event\n",
    "def hint_button_clicked(b):\n",
    "    index = hint_buttons.index(b)\n",
    "    with output:\n",
    "        num_circles = hint_textboxes[index].value\n",
    "        expression = expressions[index]\n",
    "        operand1, operator, operand2 = expression[0].split()\n",
    "        operator = operator_conversion(operator)  # Convert operator symbol if needed\n",
    "        hint = generate_hint(operand1, operator, operand2)\n",
    "        print(hint)  # Print the hint in the output box\n",
    "\n",
    "\n",
    "\n",
    "# Answer button click event\n",
    "def answer_button_clicked(b):\n",
    "    correct_answers = 0\n",
    "    total_questions = len(expressions)\n",
    "\n",
    "    with output:\n",
    "        for i in range(total_questions):\n",
    "            expression = expressions[i]\n",
    "            result = expression[1] # The result of the expression\n",
    "\n",
    "            if hint_textboxes[i].value == result: # If the input value matches the result\n",
    "                correct_answers += 1\n",
    "                print(f\"Answer for {expression[0]}: {result} is Correct\")\n",
    "\n",
    "            else:\n",
    "                print(f\"Answer for {expression[0]}: {result} is Incorrect\")\n",
    "\n",
    "        score = (correct_answers / total_questions) * 100\n",
    "\n",
    "        if score == 100:\n",
    "            print(languages[selected_language]['correct'])\n",
    "        elif score >= 70:\n",
    "            print(languages[selected_language]['almost'])\n",
    "        else:\n",
    "            print(languages[selected_language]['cheer_up'])\n",
    "\n",
    "\n",
    "        \n",
    "# Create layout\n",
    "output = Output()\n",
    "hint_buttons = []\n",
    "hint_textboxes = []\n",
    "answer_buttons = []  # Initialize answer_buttons list        \n",
    "        \n",
    "        \n",
    "for i in range(5):\n",
    "    hint_button = Button(description=languages[selected_language]['hint_button'])\n",
    "    hint_button.on_click(hint_button_clicked)\n",
    "    hint_buttons.append(hint_button)\n",
    "    \n",
    "\n",
    "\n",
    "    hint_textbox = IntText(value=0, description=expressions[i][0] + languages[selected_language]['question'])\n",
    "    hint_textboxes.append(hint_textbox)\n",
    "\n",
    "\n",
    "# Create an answer button\n",
    "answer_button = Button(description=languages[selected_language]['answer_button'])\n",
    "answer_button.on_click(answer_button_clicked)\n",
    "\n",
    "# Flatten the list of tuples into a single list of widgets (without answer_buttons)\n",
    "widgets = [widget for pair in zip(hint_textboxes, hint_buttons) for widget in pair]\n",
    "\n",
    "# Add the answer_button at the end of the widgets list\n",
    "widgets.append(answer_button)\n",
    "\n",
    "layout = VBox(widgets, layout={'width': '400px'})\n",
    "\n",
    "# Display layout\n",
    "display(layout)\n",
    "display(output)\n"
   ]
  },
  {
   "cell_type": "markdown",
   "id": "802100c8-8333-463e-8622-bd4b935b5785",
   "metadata": {
    "tags": []
   },
   "source": [
    "# Addtional calculation"
   ]
  },
  {
   "cell_type": "code",
   "execution_count": 9,
   "id": "2009cfe3-49d8-478a-b1f2-b88ce452e453",
   "metadata": {
    "tags": []
   },
   "outputs": [],
   "source": [
    "from IPython.display import display, HTML, clear_output\n",
    "from ipywidgets import Button, IntText, VBox, Output, Dropdown\n",
    "from random import randint\n",
    "from PIL import Image, ImageDraw\n",
    "import expressions\n",
    "import random\n",
    "\n",
    "def generate_expressions(num_expressions):\n",
    "    expressions = []\n",
    "\n",
    "    for _ in range(num_expressions):\n",
    "        operator = random.choice(['+', '-', '*', '/'])\n",
    "\n",
    "        if operator in ['+', '-']:\n",
    "            total = random.randint(2, 10)  # Ensure total is at least 2\n",
    "            operand = random.randint(1, total - 1)  # Pick operand from 1 to total-1 to avoid zero and self subtraction\n",
    "            missing_operand = total - operand if operator == '+' else total - operand\n",
    "            expression = f\"{total} = ? {operator} {operand}\"\n",
    "        else:\n",
    "            operand1 = random.randint(1, 10)\n",
    "            operand2 = random.randint(1, 10)\n",
    "\n",
    "            if operator == '*':\n",
    "                total = operand1 * operand2\n",
    "                expression = f\"{total} = {operand1} {operator} ?\"\n",
    "                missing_operand = operand2\n",
    "            else:  # operator == '/'\n",
    "                total = operand1 * operand2\n",
    "                expression = f\"{total} = ? {operator} {operand1}\"\n",
    "                missing_operand = operand2  # 'missing_operand' should be operand2\n",
    "\n",
    "        expressions.append((expression, missing_operand))\n",
    "\n",
    "    return expressions\n"
   ]
  },
  {
   "cell_type": "code",
   "execution_count": 10,
   "id": "91e639e6-a159-47ae-9494-2b502c234c08",
   "metadata": {},
   "outputs": [],
   "source": [
    "def hint_button_clicked(b):\n",
    "    index = hint_buttons.index(b)\n",
    "    with output:\n",
    "        clear_output()\n",
    "        expression, missing_operand = expressions[index]\n",
    "        parts = expression.split()\n",
    "        operator = parts[3]\n",
    "\n",
    "        # Determine if '?' is in the position of the first operand or the second operand\n",
    "        if parts[2] == '?':\n",
    "            known_operand = int(parts[4])  # If '?' is at the 2nd position, the known operand is at the 4th position\n",
    "            additional = False\n",
    "        else:\n",
    "            known_operand = int(parts[2])  # If '?' is at the 4th position, the known operand is at the 2nd position\n",
    "            additional = True\n",
    "\n",
    "        hint = generate_hint(known_operand, operator, known_operand, additional)\n",
    "        print(hint)\n",
    "\n",
    "# Answer button click event\n",
    "def answer_button_clicked(b):\n",
    "    correct_answers = 0\n",
    "    total_questions = len(expressions)\n",
    "\n",
    "    with output:\n",
    "        for i in range(total_questions):\n",
    "            expression, result = expressions[i]  # The answer is already generated and saved in 'result'\n",
    "            if int(hint_textboxes[i].value) == result:  # Convert the input value to integer before comparison\n",
    "                correct_answers += 1\n",
    "                print(f\"Answer for {expression}: {result} is Correct\")\n",
    "            else:\n",
    "                print(f\"Answer for {expression}: {result} is Incorrect\")\n",
    "\n",
    "        score = (correct_answers / total_questions) * 100\n",
    "        if score == 100:\n",
    "            print(languages[selected_language]['correct'])\n",
    "        elif score >= 70:\n",
    "            print(languages[selected_language]['almost'])\n",
    "        else:\n",
    "            print(languages[selected_language]['cheer_up'])\n"
   ]
  },
  {
   "cell_type": "markdown",
   "id": "1c7c7a62-aa75-4784-ac14-17672cd7f545",
   "metadata": {},
   "source": [
    "#  Generate circle image(逆算法）"
   ]
  },
  {
   "cell_type": "code",
   "execution_count": 11,
   "id": "1c28455f-709a-463f-a896-8a1687c205b2",
   "metadata": {
    "tags": []
   },
   "outputs": [
    {
     "data": {
      "application/vnd.jupyter.widget-view+json": {
       "model_id": "296a6fc8724440eb8fa959d57e9c6469",
       "version_major": 2,
       "version_minor": 0
      },
      "text/plain": [
       "VBox(children=(IntText(value=0, description='7 = 1 * ? = ?'), Button(description='ヒント', style=ButtonStyle()), …"
      ]
     },
     "metadata": {},
     "output_type": "display_data"
    },
    {
     "data": {
      "application/vnd.jupyter.widget-view+json": {
       "model_id": "a640d648e91c41e68299a2b4df27a66e",
       "version_major": 2,
       "version_minor": 0
      },
      "text/plain": [
       "Output(outputs=({'name': 'stdout', 'text': '●●●●●●●● + ●●●●●●●● + ●●●●●●●● + ●●●●●●●● + ●●●●●●●● + ●●●●●●●● + …"
      ]
     },
     "metadata": {},
     "output_type": "display_data"
    }
   ],
   "source": [
    "      \n",
    "# Define the hint generation function\n",
    "def generate_hint(known_operand, operator, missing_operand, additional):\n",
    "    known_operand = int(known_operand)\n",
    "    if operator == '+':\n",
    "        if additional:\n",
    "            return '●' * known_operand + ' ' + operator + ' ' + '〇' * missing_operand\n",
    "        else:\n",
    "            return '〇' * missing_operand + ' ' + operator + ' ' + '●' * known_operand\n",
    "    elif operator == '-':\n",
    "        if additional:\n",
    "            return '〇' * missing_operand + ' ' + operator + ' ' + '●' * known_operand\n",
    "        else:\n",
    "            return '●' * known_operand + ' ' + operator + ' ' + '〇' * missing_operand\n",
    "    elif operator == '*':\n",
    "        return ' + '.join(['●' * known_operand for _ in range(missing_operand)])\n",
    "    elif operator == '/':\n",
    "        if missing_operand != 0:\n",
    "            return ' - '.join(['●' * missing_operand for _ in range(known_operand // missing_operand)])\n",
    "        else:\n",
    "            return 'Can not divide by zero.'\n",
    "    return ''\n",
    "\n",
    "\n",
    "# Global variable initializations\n",
    "expressions = generate_expressions(5)\n",
    "hint_buttons = []\n",
    "hint_textboxes = []\n",
    "\n",
    "# Widget creation and event handlers\n",
    "for i in range(5):\n",
    "    hint_button = Button(description=languages[selected_language]['hint_button'])\n",
    "    hint_button.on_click(hint_button_clicked)\n",
    "    hint_buttons.append(hint_button)\n",
    "    \n",
    "    hint_textbox = IntText(value=0, description=expressions[i][0] + languages[selected_language]['question'])\n",
    "    hint_textboxes.append(hint_textbox)\n",
    "\n",
    "answer_button = Button(description=languages[selected_language]['answer_button'])\n",
    "answer_button.on_click(answer_button_clicked)\n",
    "\n",
    "# Displaying widgets\n",
    "widgets = [widget for pair in zip(hint_textboxes, hint_buttons) for widget in pair]\n",
    "widgets.append(answer_button)\n",
    "\n",
    "layout = VBox(widgets, layout={'width': '400px'})\n",
    "\n",
    "display(layout)\n",
    "display(output)"
   ]
  },
  {
   "cell_type": "code",
   "execution_count": null,
   "id": "f9dbc2f4-f75a-4cf9-b7d8-0b97f3da400f",
   "metadata": {},
   "outputs": [],
   "source": []
  }
 ],
 "metadata": {
  "kernelspec": {
   "display_name": "Python 3 (ipykernel)",
   "language": "python",
   "name": "python3"
  },
  "language_info": {
   "codemirror_mode": {
    "name": "ipython",
    "version": 3
   },
   "file_extension": ".py",
   "mimetype": "text/x-python",
   "name": "python",
   "nbconvert_exporter": "python",
   "pygments_lexer": "ipython3",
   "version": "3.7.16"
  }
 },
 "nbformat": 4,
 "nbformat_minor": 5
}

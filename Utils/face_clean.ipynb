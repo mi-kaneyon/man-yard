{
 "cells": [
  {
   "cell_type": "markdown",
   "id": "59973125-1a37-4bec-9696-6fe335d52404",
   "metadata": {},
   "source": [
    "# Hetmap"
   ]
  },
  {
   "cell_type": "code",
   "execution_count": 1,
   "id": "c9d70346-cb06-4931-8094-830a20394f07",
   "metadata": {
    "tags": []
   },
   "outputs": [],
   "source": [
    "import cv2\n",
    "import numpy as np\n",
    "\n",
    "# Initialize the camera\n",
    "cap = cv2.VideoCapture(0)\n",
    "\n",
    "while True:\n",
    "    # Capture frame\n",
    "    ret, frame = cap.read()\n",
    "\n",
    "    # Convert to grayscale\n",
    "    gray = cv2.cvtColor(frame, cv2.COLOR_BGR2GRAY)\n",
    "\n",
    "    # Apply GaussianBlur\n",
    "    gray = cv2.GaussianBlur(gray, (5, 5), 0)\n",
    "\n",
    "    # Edge detection\n",
    "    edges = cv2.Canny(gray, 100, 200)\n",
    "\n",
    "    # Generate heatmap\n",
    "    heatmap_color = cv2.applyColorMap(edges, cv2.COLORMAP_JET)\n",
    "\n",
    "    # Display the resulting frame\n",
    "    cv2.imshow('Heatmap', heatmap_color)\n",
    "\n",
    "    if cv2.waitKey(1) & 0xFF == ord('q'):\n",
    "        break\n",
    "\n",
    "# Release the camera\n",
    "cap.release()\n",
    "cv2.destroyAllWindows()\n"
   ]
  },
  {
   "cell_type": "markdown",
   "id": "2d46c382-8453-48cb-886b-73757504576d",
   "metadata": {},
   "source": [
    "# Depth"
   ]
  },
  {
   "cell_type": "code",
   "execution_count": 2,
   "id": "073d54bd-1bcf-4f83-9d75-d564d25186c1",
   "metadata": {},
   "outputs": [],
   "source": [
    "import cv2\n",
    "import numpy as np\n",
    "\n",
    "def generate_depth_map(edges):\n",
    "    # Apply GaussianBlur to smooth the edges\n",
    "    depth_map = cv2.GaussianBlur(edges, (11, 11), 0)\n",
    "    \n",
    "    # Normalize the depth map\n",
    "    depth_map = cv2.normalize(depth_map, None, 0, 255, cv2.NORM_MINMAX)\n",
    "    \n",
    "    return depth_map\n",
    "\n",
    "# Initialize the camera\n",
    "cap = cv2.VideoCapture(0)\n",
    "\n",
    "while True:\n",
    "    # Capture frame\n",
    "    ret, frame = cap.read()\n",
    "\n",
    "    # Convert to grayscale\n",
    "    gray = cv2.cvtColor(frame, cv2.COLOR_BGR2GRAY)\n",
    "\n",
    "    # Apply GaussianBlur\n",
    "    gray = cv2.GaussianBlur(gray, (5, 5), 0)\n",
    "\n",
    "    # Edge detection\n",
    "    edges = cv2.Canny(gray, 100, 200)\n",
    "\n",
    "    # Generate depth map based on edges\n",
    "    depth_map = generate_depth_map(edges)\n",
    "\n",
    "    # Generate heatmap\n",
    "    heatmap_color = cv2.applyColorMap(depth_map, cv2.COLORMAP_JET)\n",
    "\n",
    "    # Display the resulting frame\n",
    "    cv2.imshow('Depth Heatmap', heatmap_color)\n",
    "\n",
    "    if cv2.waitKey(1) & 0xFF == ord('q'):\n",
    "        break\n",
    "\n",
    "# Release the camera\n",
    "cap.release()\n",
    "cv2.destroyAllWindows()\n"
   ]
  },
  {
   "cell_type": "code",
   "execution_count": null,
   "id": "a1ebc785-385e-4fd5-8492-9fcbd29d01e9",
   "metadata": {},
   "outputs": [],
   "source": []
  }
 ],
 "metadata": {
  "kernelspec": {
   "display_name": "Python 3 (ipykernel)",
   "language": "python",
   "name": "python3"
  },
  "language_info": {
   "codemirror_mode": {
    "name": "ipython",
    "version": 3
   },
   "file_extension": ".py",
   "mimetype": "text/x-python",
   "name": "python",
   "nbconvert_exporter": "python",
   "pygments_lexer": "ipython3",
   "version": "3.7.16"
  }
 },
 "nbformat": 4,
 "nbformat_minor": 5
}

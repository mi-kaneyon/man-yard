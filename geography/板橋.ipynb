{
 "cells": [
  {
   "cell_type": "markdown",
   "id": "7afdb3fe-964e-4937-9702-7cb6c972b4d1",
   "metadata": {},
   "source": [
    "# 板橋区どこへ行く・スーパー・公園（immigration Itabashi)"
   ]
  },
  {
   "cell_type": "code",
   "execution_count": 2,
   "id": "c17c8eb3-27ef-4d87-94c7-da09e207875c",
   "metadata": {
    "tags": []
   },
   "outputs": [
    {
     "name": "stdout",
     "output_type": "stream",
     "text": [
      "Requirement already satisfied: geopy in c:\\users\\manyan\\anaconda3\\envs\\osac\\lib\\site-packages (2.3.0)\n",
      "Requirement already satisfied: geographiclib<3,>=1.52 in c:\\users\\manyan\\anaconda3\\envs\\osac\\lib\\site-packages (from geopy) (2.0)\n"
     ]
    }
   ],
   "source": [
    "!pip install geopy"
   ]
  },
  {
   "cell_type": "code",
   "execution_count": 21,
   "id": "a452f93b-5247-45a6-affa-941d781a3892",
   "metadata": {
    "tags": []
   },
   "outputs": [
    {
     "name": "stdout",
     "output_type": "stream",
     "text": [
      "   THEMATIC_ID  INFO_TYPE                施設名称               施設名称ふりがな  \\\n",
      "0      1089169        275           コープ　板橋駅前店         こーぷ　いたばしえきまえてん   \n",
      "1      1089170        275  コモディイイダ　ハッピーロード大山店  こもでぃいいだ　はっぴーろーどおおやまてん   \n",
      "2      1089171        275      サミットストア　板橋弥生町店   さみっとすとあ　いたばしやよいちょうてん   \n",
      "3      1089172        275          マルエツ　板橋駅前店        まるえつ　いたばしえきまえてん   \n",
      "4      1089173        275             ライフ　板橋店             らいふ　いたばしてん   \n",
      "\n",
      "          住所 参考URL   備考       電話番号      FAX番号  \\\n",
      "0  板橋1-55-16   NaN  NaN  5375-0800  5375-0801   \n",
      "1    大山町49-1   NaN  NaN  5986-1581        NaN   \n",
      "2     弥生町8-1   NaN  NaN  5964-6110        NaN   \n",
      "3    板橋1-1-1   NaN  NaN  5396-2111  5396-2112   \n",
      "4    板橋4-6-1   NaN  NaN  3964-0812        NaN   \n",
      "\n",
      "                             EMAIL  ... 音声案内設備 電光掲示板 手話対応 補助犬  車イスの貸出  \\\n",
      "0  tokyo_ｊg1320001@g.coopnet.or.jp  ...      0     0    0   0       0   \n",
      "1                              NaN  ...      0     0    0   0       0   \n",
      "2                              NaN  ...      0     0    0   1       1   \n",
      "3                              NaN  ...      0     0    0   0       1   \n",
      "4                              NaN  ...      0     0    0   0       1   \n",
      "\n",
      "  車イス対応公衆電話  AED  外国語案内  Wi-Fi  緊急時警報設備（光・音声など）  \n",
      "0         0    1      0      0                0  \n",
      "1         0    0      0      0                0  \n",
      "2         0    1      0      0                0  \n",
      "3         0    0      0      0                0  \n",
      "4         0    0      0      0                0  \n",
      "\n",
      "[5 rows x 56 columns]\n",
      "小豆沢公園（環八沿線南側） 小豆沢4-20-5 None None\n"
     ]
    }
   ],
   "source": [
    "import pandas as pd\n",
    "\n",
    "# 各CSVファイルを読み込む\n",
    "df1 = pd.read_csv('6.csv', encoding='Shift_JIS')\n",
    "df2 = pd.read_csv('7.csv', encoding='Shift_JIS')\n",
    "\n",
    "# 2つのデータフレームを結合する\n",
    "df = pd.concat([df1, df2])\n",
    "\n",
    "# 最初の5行を表示する\n",
    "print(df.head())\n",
    "\n",
    "# \"施設名称\"と\"住所\"のみのデータフレームを作る\n",
    "df = df[['施設名称', '住所']]\n",
    "\n",
    "# ランダムに一つの施設を選ぶ\n",
    "random_attraction = df.sample()\n",
    "\n",
    "# 緯度・経度を取得\n",
    "latitude, longitude = get_latitude_and_longitude(random_attraction['住所'].values[0])\n",
    "\n",
    "# 施設名と住所、緯度・経度を表示\n",
    "print(random_attraction['施設名称'].values[0], random_attraction['住所'].values[0], latitude, longitude)\n"
   ]
  },
  {
   "cell_type": "code",
   "execution_count": 22,
   "id": "a21b87bd-4b62-4fbd-a47a-678a29a8dca2",
   "metadata": {
    "tags": []
   },
   "outputs": [
    {
     "name": "stdin",
     "output_type": "stream",
     "text": [
      "現在地の住所を入力してください:  宮前区\n"
     ]
    }
   ],
   "source": [
    "from geopy.geocoders import Nominatim\n",
    "from time import sleep\n",
    "\n",
    "# ユーザーエージェントを適切に設定します\n",
    "# （あなたのメールアドレスに置き換えてください）\n",
    "geolocator = Nominatim(user_agent=\"t71920@hotmai.com\")\n",
    "\n",
    "def get_latitude_and_longitude(address):\n",
    "    \"\"\"地名から経度・緯度を取得する\n",
    "    Args:\n",
    "        address (str): 地名\n",
    "    Returns:\n",
    "        tuple: 緯度, 緯度\n",
    "    \"\"\"\n",
    "    location = geolocator.geocode(address)\n",
    "    sleep(1)  # Nominatim APIの制限を回避するためにリクエスト間に小さな待ち時間を設けます\n",
    "\n",
    "    if location is not None:\n",
    "        return location.latitude, location.longitude\n",
    "    else:\n",
    "        return None, None\n",
    "\n",
    "\n",
    "# 現在地を入力する\n",
    "current_address = input(\"現在地の住所を入力してください: \")\n",
    "\n",
    "# 地名から経度・緯度に変換する\n",
    "current_latitude, current_longitude = get_latitude_and_longitude(current_address)\n"
   ]
  },
  {
   "cell_type": "markdown",
   "id": "4ee23d60-7aa7-4a65-90e8-63438e8e5d2f",
   "metadata": {},
   "source": [
    "# おすすめの場所は？Recommendation"
   ]
  },
  {
   "cell_type": "code",
   "execution_count": 23,
   "id": "e34f925e-52fd-4d85-ad7b-430d3faa7045",
   "metadata": {
    "tags": []
   },
   "outputs": [
    {
     "name": "stdout",
     "output_type": "stream",
     "text": [
      "サミットストア　板橋弥生町店 弥生町8-1 None None\n"
     ]
    }
   ],
   "source": [
    "import pandas as pd\n",
    "import random\n",
    "\n",
    "# 各CSVファイルを読み込む\n",
    "df1 = pd.read_csv('6.csv', encoding='Shift_JIS')\n",
    "df2 = pd.read_csv('7.csv', encoding='Shift_JIS')\n",
    "\n",
    "# 2つのデータフレームを結合する\n",
    "df = pd.concat([df1, df2])\n",
    "\n",
    "# \"施設名称\"と\"住所\"のみのデータフレームを作る\n",
    "df = df[['施設名称', '住所']]\n",
    "\n",
    "# ランダムに一つの施設を選ぶ\n",
    "random_attraction = df.sample()\n",
    "\n",
    "# 緯度・経度を取得（get_latitude_and_longitudeという関数が必要です。）\n",
    "latitude, longitude = get_latitude_and_longitude(random_attraction['住所'].values[0])\n",
    "\n",
    "# 施設名と住所、緯度・経度を表示\n",
    "print(random_attraction['施設名称'].values[0], random_attraction['住所'].values[0], latitude, longitude)\n"
   ]
  },
  {
   "cell_type": "code",
   "execution_count": null,
   "id": "700f3384-98dc-4542-aefd-fb60b6df50e8",
   "metadata": {
    "tags": []
   },
   "outputs": [],
   "source": []
  }
 ],
 "metadata": {
  "kernelspec": {
   "display_name": "Python 3 (ipykernel)",
   "language": "python",
   "name": "python3"
  },
  "language_info": {
   "codemirror_mode": {
    "name": "ipython",
    "version": 3
   },
   "file_extension": ".py",
   "mimetype": "text/x-python",
   "name": "python",
   "nbconvert_exporter": "python",
   "pygments_lexer": "ipython3",
   "version": "3.7.16"
  }
 },
 "nbformat": 4,
 "nbformat_minor": 5
}

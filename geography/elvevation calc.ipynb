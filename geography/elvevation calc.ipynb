{
 "cells": [
  {
   "cell_type": "markdown",
   "id": "1d9467bc",
   "metadata": {},
   "source": [
    "# 地図データと標高差分析ノートブック"
   ]
  },
  {
   "cell_type": "markdown",
   "id": "a54dba04",
   "metadata": {},
   "source": [
    "このノートブックでは、ユーザーが入力した2つの住所に基づいて、それぞれの標高情報を取得し、その標高差を計算します。"
   ]
  },
  {
   "cell_type": "markdown",
   "id": "2da1104b",
   "metadata": {},
   "source": [
    "## 1. 住所の入力"
   ]
  },
  {
   "cell_type": "code",
   "execution_count": 1,
   "id": "d1942946",
   "metadata": {
    "tags": []
   },
   "outputs": [
    {
     "name": "stdin",
     "output_type": "stream",
     "text": [
      "最初の住所を入力してください:  川崎市宮前区平４−５\n",
      "2番目の住所を入力してください:  川崎市多摩区登戸新町２１１\n"
     ]
    }
   ],
   "source": [
    "address1 = input('最初の住所を入力してください: ')\n",
    "address2 = input('2番目の住所を入力してください: ')"
   ]
  },
  {
   "cell_type": "markdown",
   "id": "b243e16c",
   "metadata": {},
   "source": [
    "## 2. Yahoo!ジオコーディングAPIを使用して緯度経度を取得"
   ]
  },
  {
   "cell_type": "code",
   "execution_count": 10,
   "id": "b851d57c",
   "metadata": {
    "tags": []
   },
   "outputs": [
    {
     "name": "stdin",
     "output_type": "stream",
     "text": [
      "最初の住所を入力してください:  川崎市多摩区登戸新町１\n",
      "2番目の住所を入力してください:  川崎市宮前区初山１−２３\n"
     ]
    },
    {
     "name": "stdout",
     "output_type": "stream",
     "text": [
      "最初の住所の緯度経度: ['139.56546191', '35.62636788']\n"
     ]
    },
    {
     "data": {
      "text/html": [
       "\n",
       "    <iframe src=\"https://www.openstreetmap.org/export/embed.html?bbox=35.621367879999994%2C139.56046191000001%2C35.63136788%2C139.57046191&amp;layer=mapnik&amp;marker=139.56546191%2C35.62636788\" style=\"border: none;\" width=\"600\" height=\"450\"></iframe>\n",
       "    "
      ],
      "text/plain": [
       "<IPython.core.display.HTML object>"
      ]
     },
     "metadata": {},
     "output_type": "display_data"
    },
    {
     "name": "stdout",
     "output_type": "stream",
     "text": [
      "2番目の住所の緯度経度: ['139.56161452', '35.59681442']\n"
     ]
    },
    {
     "data": {
      "text/html": [
       "\n",
       "    <iframe src=\"https://www.openstreetmap.org/export/embed.html?bbox=35.59181442%2C139.55661452%2C35.601814420000004%2C139.56661452&amp;layer=mapnik&amp;marker=139.56161452%2C35.59681442\" style=\"border: none;\" width=\"600\" height=\"450\"></iframe>\n",
       "    "
      ],
      "text/plain": [
       "<IPython.core.display.HTML object>"
      ]
     },
     "metadata": {},
     "output_type": "display_data"
    }
   ],
   "source": [
    "import requests\n",
    "from IPython.display import display, HTML\n",
    "\n",
    "# アプリケーションIDの設定\n",
    "appid = 'your yahoo japan appid'\n",
    "\n",
    "# 2つの住所のジオコーディング\n",
    "def get_coordinates(address):\n",
    "    url = f\"https://map.yahooapis.jp/geocode/V1/geoCoder?appid={appid}&query={address}&output=json&sort=address2\"\n",
    "    response = requests.get(url)\n",
    "    data = response.json()\n",
    "    \n",
    "    if 'Feature' in data:\n",
    "        coordinates = data['Feature'][0]['Geometry']['Coordinates']\n",
    "        return coordinates.split(',')\n",
    "    else:\n",
    "        print(f\"エラーまたは住所が見つかりません: {data}\")\n",
    "        return [None, None]\n",
    "\n",
    "def display_map(latitude, longitude):\n",
    "    \"\"\"指定した緯度経度にマーカーを表示する地図を埋め込む関数\"\"\"\n",
    "    html_template = f\"\"\"\n",
    "    <iframe src=\"https://www.openstreetmap.org/export/embed.html?bbox={longitude-0.005}%2C{latitude-0.005}%2C{longitude+0.005}%2C{latitude+0.005}&amp;layer=mapnik&amp;marker={latitude}%2C{longitude}\" style=\"border: none;\" width=\"600\" height=\"450\"></iframe>\n",
    "    \"\"\"\n",
    "    display(HTML(html_template))\n",
    "\n",
    "# 住所を入力\n",
    "address1 = input('最初の住所を入力してください: ')\n",
    "address2 = input('2番目の住所を入力してください: ')\n",
    "\n",
    "# 緯度経度の取得\n",
    "coordinates1 = get_coordinates(address1)\n",
    "coordinates2 = get_coordinates(address2)\n",
    "\n",
    "# 地図の表示\n",
    "if coordinates1[0] is not None and coordinates2[0] is not None:\n",
    "    latitude1, longitude1 = map(float, coordinates1)\n",
    "    latitude2, longitude2 = map(float, coordinates2)\n",
    "    \n",
    "    print(f\"最初の住所の緯度経度: {coordinates1}\")\n",
    "    display_map(latitude1, longitude1)\n",
    "    \n",
    "    print(f\"2番目の住所の緯度経度: {coordinates2}\")\n",
    "    display_map(latitude2, longitude2)\n",
    "else:\n",
    "    print(\"位置情報を取得できませんでした。\")\n"
   ]
  },
  {
   "cell_type": "markdown",
   "id": "c6eca2a0",
   "metadata": {},
   "source": [
    "## 3. Yahoo!標高APIを使用して標高情報を取得"
   ]
  },
  {
   "cell_type": "code",
   "execution_count": 11,
   "id": "7f1ada63",
   "metadata": {
    "tags": []
   },
   "outputs": [
    {
     "name": "stdout",
     "output_type": "stream",
     "text": [
      "最初の住所の標高: 20.1メートル\n",
      "2番目の住所の標高: 40.5メートル\n"
     ]
    }
   ],
   "source": [
    "\n",
    "# 2つの住所の標高情報の取得\n",
    "def get_altitude(coordinates):\n",
    "    coord_string = ','.join(coordinates)\n",
    "    url = f\"https://map.yahooapis.jp/alt/V1/getAltitude?appid={appid}&coordinates={coord_string}&output=json\"\n",
    "    response = requests.get(url)\n",
    "    data = response.json()\n",
    "    \n",
    "    if 'Feature' in data:\n",
    "        altitude = data['Feature'][0]['Property']['Altitude']\n",
    "        return altitude\n",
    "    else:\n",
    "        print(f\"エラーまたは標高情報が見つかりません: {data}\")\n",
    "        return None\n",
    "\n",
    "altitude1 = get_altitude(coordinates1)\n",
    "altitude2 = get_altitude(coordinates2)\n",
    "\n",
    "if altitude1 is not None and altitude2 is not None:\n",
    "    print(f\"最初の住所の標高: {altitude1}メートル\")\n",
    "    print(f\"2番目の住所の標高: {altitude2}メートル\")\n",
    "else:\n",
    "    print(\"標高情報を取得できませんでした。\")\n",
    "        "
   ]
  },
  {
   "cell_type": "markdown",
   "id": "ed315a02",
   "metadata": {},
   "source": [
    "## 4. 標高差の計算と視覚化"
   ]
  },
  {
   "cell_type": "code",
   "execution_count": 12,
   "id": "a8d87889",
   "metadata": {
    "tags": []
   },
   "outputs": [
    {
     "name": "stderr",
     "output_type": "stream",
     "text": [
      "findfont: Font family 'IPAexGothic' not found.\n",
      "findfont: Font family 'IPAexGothic' not found.\n",
      "findfont: Font family 'IPAexGothic' not found.\n",
      "findfont: Font family 'IPAexGothic' not found.\n",
      "findfont: Font family 'IPAexGothic' not found.\n",
      "findfont: Font family 'IPAexGothic' not found.\n",
      "findfont: Font family 'IPAexGothic' not found.\n",
      "findfont: Font family 'IPAexGothic' not found.\n",
      "findfont: Font family 'IPAexGothic' not found.\n",
      "findfont: Font family 'IPAexGothic' not found.\n",
      "findfont: Font family 'IPAexGothic' not found.\n",
      "findfont: Font family 'IPAexGothic' not found.\n",
      "findfont: Font family 'IPAexGothic' not found.\n",
      "findfont: Font family 'IPAexGothic' not found.\n",
      "findfont: Font family 'IPAexGothic' not found.\n",
      "findfont: Font family 'IPAexGothic' not found.\n",
      "findfont: Font family 'IPAexGothic' not found.\n",
      "findfont: Font family 'IPAexGothic' not found.\n",
      "findfont: Font family 'IPAexGothic' not found.\n",
      "findfont: Font family 'IPAexGothic' not found.\n",
      "findfont: Font family 'IPAexGothic' not found.\n",
      "findfont: Font family 'IPAexGothic' not found.\n",
      "findfont: Font family 'IPAexGothic' not found.\n",
      "findfont: Font family 'IPAexGothic' not found.\n",
      "findfont: Font family 'IPAexGothic' not found.\n",
      "findfont: Font family 'IPAexGothic' not found.\n",
      "findfont: Font family 'IPAexGothic' not found.\n",
      "findfont: Font family 'IPAexGothic' not found.\n",
      "findfont: Font family 'IPAexGothic' not found.\n",
      "findfont: Font family 'IPAexGothic' not found.\n",
      "findfont: Font family 'IPAexGothic' not found.\n",
      "findfont: Font family 'IPAexGothic' not found.\n",
      "findfont: Font family 'IPAexGothic' not found.\n",
      "findfont: Font family 'IPAexGothic' not found.\n",
      "findfont: Font family 'IPAexGothic' not found.\n",
      "findfont: Font family 'IPAexGothic' not found.\n",
      "findfont: Font family 'IPAexGothic' not found.\n",
      "findfont: Font family 'IPAexGothic' not found.\n",
      "findfont: Font family 'IPAexGothic' not found.\n",
      "findfont: Font family 'IPAexGothic' not found.\n",
      "findfont: Font family 'IPAexGothic' not found.\n",
      "findfont: Font family 'IPAexGothic' not found.\n",
      "findfont: Font family 'IPAexGothic' not found.\n",
      "findfont: Font family 'IPAexGothic' not found.\n",
      "findfont: Font family 'IPAexGothic' not found.\n",
      "findfont: Font family 'IPAexGothic' not found.\n"
     ]
    },
    {
     "data": {
      "image/png": "[encoded data removed]",
      "text/plain": [
       "<Figure size 1000x600 with 1 Axes>"
      ]
     },
     "metadata": {},
     "output_type": "display_data"
    },
    {
     "name": "stdout",
     "output_type": "stream",
     "text": [
      "elevation_difference: 20.4m\n"
     ]
    }
   ],
   "source": [
    "import matplotlib.pyplot as plt\n",
    "import matplotlib\n",
    "\n",
    "# 日本語フォントの指定 (例: 'IPAexGothic')\n",
    "matplotlib.rcParams['font.family'] = 'IPAexGothic'\n",
    "\n",
    "# 標高差の計算\n",
    "if altitude1 is not None and altitude2 is not None:\n",
    "    elevation_difference = abs(altitude1 - altitude2)\n",
    "\n",
    "    # 標高差の視覚化\n",
    "    locations = ['Target_address', 'start_location']\n",
    "    altitudes = [altitude1, altitude2]\n",
    "\n",
    "    plt.figure(figsize=(10, 6))\n",
    "    plt.bar(locations, altitudes, color=['blue', 'green'])\n",
    "    plt.xlabel('Location')\n",
    "    plt.ylabel('elevation (m)')\n",
    "    plt.title('elevation difference')\n",
    "    plt.show()\n",
    "\n",
    "    print(f\"elevation_difference: {elevation_difference}m\")\n",
    "else:\n",
    "    print(\"標高差を計算できません。\")\n",
    "\n",
    "        "
   ]
  },
  {
   "cell_type": "code",
   "execution_count": null,
   "id": "7cbdb18c-4d17-4427-b797-798ce67e47e2",
   "metadata": {},
   "outputs": [],
   "source": []
  }
 ],
 "metadata": {
  "kernelspec": {
   "display_name": "Python 3 (ipykernel)",
   "language": "python",
   "name": "python3"
  },
  "language_info": {
   "codemirror_mode": {
    "name": "ipython",
    "version": 3
   },
   "file_extension": ".py",
   "mimetype": "text/x-python",
   "name": "python",
   "nbconvert_exporter": "python",
   "pygments_lexer": "ipython3",
   "version": "3.9.18"
  }
 },
 "nbformat": 4,
 "nbformat_minor": 5
}

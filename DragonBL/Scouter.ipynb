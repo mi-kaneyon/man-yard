{
 "cells": [
  {
   "cell_type": "markdown",
   "id": "1426dfc0-284b-46b1-acd8-717eda6ab127",
   "metadata": {},
   "source": [
    "# scouter"
   ]
  },
  {
   "cell_type": "code",
   "execution_count": null,
   "id": "89d25cf9-0c84-4f08-929e-9e02f810643c",
   "metadata": {},
   "outputs": [
    {
     "name": "stderr",
     "output_type": "stream",
     "text": [
      "C:\\Users\\Manyan\\anaconda3\\envs\\osac\\lib\\site-packages\\torchvision\\models\\_utils.py:209: UserWarning: The parameter 'pretrained' is deprecated since 0.13 and may be removed in the future, please use 'weights' instead.\n",
      "  f\"The parameter '{pretrained_param}' is deprecated since 0.13 and may be removed in the future, \"\n",
      "C:\\Users\\Manyan\\anaconda3\\envs\\osac\\lib\\site-packages\\torchvision\\models\\_utils.py:223: UserWarning: Arguments other than a weight enum or `None` for 'weights' are deprecated since 0.13 and may be removed in the future. The current behavior is equivalent to passing `weights=SSDLite320_MobileNet_V3_Large_Weights.COCO_V1`. You can also use `weights=SSDLite320_MobileNet_V3_Large_Weights.DEFAULT` to get the most up-to-date weights.\n",
      "  warnings.warn(msg)\n"
     ]
    }
   ],
   "source": [
    "import cv2\n",
    "import torch\n",
    "import torchvision.transforms as T\n",
    "from torchvision.models.detection import ssdlite320_mobilenet_v3_large\n",
    "\n",
    "# Initialize webcam\n",
    "cap = cv2.VideoCapture(0)\n",
    "\n",
    "# Initialize pre-trained SSD model\n",
    "model = ssdlite320_mobilenet_v3_large(pretrained=True)\n",
    "model.eval()\n",
    "\n",
    "# If a GPU is available, move the model to GPU\n",
    "if torch.cuda.is_available():\n",
    "    model = model.cuda()\n",
    "\n",
    "# Define the transformation\n",
    "transform = T.Compose([T.ToPILImage(), T.Resize((300, 300)), T.ToTensor()])\n",
    "\n",
    "# ...（前のコードは変更なし）\n",
    "\n",
    "while True:\n",
    "    ret, frame = cap.read()\n",
    "    if not ret:\n",
    "        break\n",
    "\n",
    "    # Apply the transformation and make prediction\n",
    "    inp = transform(frame).unsqueeze(0)\n",
    "    if torch.cuda.is_available():\n",
    "        inp = inp.cuda()\n",
    "    \n",
    "    with torch.no_grad():\n",
    "        prediction = model(inp)\n",
    "\n",
    "    # Filter out 'person' class with a confidence threshold\n",
    "    confidence_threshold = 0.5\n",
    "    for i in range(len(prediction[0]['labels'])):\n",
    "        if prediction[0]['labels'][i] == 1 and prediction[0]['scores'][i] >= confidence_threshold:  # 1 is the COCO id for 'person'\n",
    "            box = prediction[0]['boxes'][i].cpu().int().numpy()\n",
    "            score = prediction[0]['scores'][i].cpu().item()\n",
    "            power_level = score * 1000  # Just an example, you can define your own formula\n",
    "\n",
    "            # Draw bounding box and power level\n",
    "            cv2.rectangle(frame, (box[0], box[1]), (box[2], box[3]), (255, 0, 0), 2)\n",
    "            cv2.putText(frame, f\"Power: {power_level:.2f}\", (box[0], box[1] - 10), cv2.FONT_HERSHEY_SIMPLEX, 0.5, (255, 255, 255), 1)\n",
    "\n",
    "    # Display the frame\n",
    "    cv2.imshow('Scouter', frame)\n",
    "\n",
    "    if cv2.waitKey(1) & 0xFF == ord('q'):\n",
    "        break\n",
    "\n",
    "cap.release()\n",
    "cv2.destroyAllWindows()\n"
   ]
  },
  {
   "cell_type": "code",
   "execution_count": null,
   "id": "c4f28588-32d4-4f3d-9951-5bce8c0cffbc",
   "metadata": {},
   "outputs": [],
   "source": []
  }
 ],
 "metadata": {
  "kernelspec": {
   "display_name": "Python 3 (ipykernel)",
   "language": "python",
   "name": "python3"
  },
  "language_info": {
   "codemirror_mode": {
    "name": "ipython",
    "version": 3
   },
   "file_extension": ".py",
   "mimetype": "text/x-python",
   "name": "python",
   "nbconvert_exporter": "python",
   "pygments_lexer": "ipython3",
   "version": "3.7.16"
  }
 },
 "nbformat": 4,
 "nbformat_minor": 5
}

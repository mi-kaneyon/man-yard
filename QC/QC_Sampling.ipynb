{
 "cells": [
  {
   "cell_type": "markdown",
   "id": "33eb9775-babf-420d-b4d8-eea9128f0842",
   "metadata": {},
   "source": [
    "# Sampling サンプリング"
   ]
  },
  {
   "cell_type": "markdown",
   "id": "9eef513d-76c2-4414-939f-1558a5a1879b",
   "metadata": {},
   "source": [
    "# 二段サンプリング(集落・層別）"
   ]
  },
  {
   "cell_type": "code",
   "execution_count": 49,
   "id": "98dfe80d-8b1f-4b08-b2fd-f86484f14658",
   "metadata": {},
   "outputs": [
    {
     "data": {
      "application/vnd.jupyter.widget-view+json": {
       "model_id": "da9a023b4551485287a9ac98f925ec89",
       "version_major": 2,
       "version_minor": 0
      },
      "text/plain": [
       "FloatText(value=0.0, description='M (全体の箱数):')"
      ]
     },
     "metadata": {},
     "output_type": "display_data"
    },
    {
     "data": {
      "application/vnd.jupyter.widget-view+json": {
       "model_id": "424f957891d7492aba5a8d702d9f3769",
       "version_major": 2,
       "version_minor": 0
      },
      "text/plain": [
       "FloatText(value=0.0, description='m (選ばれた箱数):')"
      ]
     },
     "metadata": {},
     "output_type": "display_data"
    },
    {
     "data": {
      "application/vnd.jupyter.widget-view+json": {
       "model_id": "358cbc110a524a72abae9e3be8b8fcf6",
       "version_major": 2,
       "version_minor": 0
      },
      "text/plain": [
       "FloatText(value=0.0, description='N (全体の項目数):')"
      ]
     },
     "metadata": {},
     "output_type": "display_data"
    },
    {
     "data": {
      "application/vnd.jupyter.widget-view+json": {
       "model_id": "4c4c6b2060f94b6796ca60a3c6f0534e",
       "version_major": 2,
       "version_minor": 0
      },
      "text/plain": [
       "FloatText(value=0.0, description='n (選ばれた項目数):')"
      ]
     },
     "metadata": {},
     "output_type": "display_data"
    },
    {
     "data": {
      "application/vnd.jupyter.widget-view+json": {
       "model_id": "055b342ec12d4bbb9ccd73a0480700e5",
       "version_major": 2,
       "version_minor": 0
      },
      "text/plain": [
       "FloatText(value=0.0, description='σ²q (層間分散):')"
      ]
     },
     "metadata": {},
     "output_type": "display_data"
    },
    {
     "data": {
      "application/vnd.jupyter.widget-view+json": {
       "model_id": "41bebe26f97b420fba3b783bbe2986f7",
       "version_major": 2,
       "version_minor": 0
      },
      "text/plain": [
       "FloatText(value=0.0, description='σ²w (層内分散):')"
      ]
     },
     "metadata": {},
     "output_type": "display_data"
    },
    {
     "data": {
      "application/vnd.jupyter.widget-view+json": {
       "model_id": "ff804b8d37534b97a6f19b9bd92570f9",
       "version_major": 2,
       "version_minor": 0
      },
      "text/plain": [
       "Button(description='計算', style=ButtonStyle())"
      ]
     },
     "metadata": {},
     "output_type": "display_data"
    },
    {
     "data": {
      "application/vnd.jupyter.widget-view+json": {
       "model_id": "cdcb141d5ca44a86a402fe7d8b5a03f8",
       "version_major": 2,
       "version_minor": 0
      },
      "text/plain": [
       "Label(value='')"
      ]
     },
     "metadata": {},
     "output_type": "display_data"
    },
    {
     "data": {
      "application/vnd.jupyter.widget-view+json": {
       "model_id": "0b6f4473991644b1ab632e7af64d245d",
       "version_major": 2,
       "version_minor": 0
      },
      "text/plain": [
       "Label(value='')"
      ]
     },
     "metadata": {},
     "output_type": "display_data"
    }
   ],
   "source": [
    "import ipywidgets as widgets\n",
    "from IPython.display import display\n",
    "\n",
    "def calculate_sampling(b):\n",
    "    M = float(M_input.value)\n",
    "    m = float(m_input.value)\n",
    "    N = float(N_input.value)\n",
    "    n = float(n_input.value)\n",
    "    sigma_sq_q = float(sigma_sq_q_input.value)**2 # 2乗する\n",
    "    sigma_sq_w = float(sigma_sq_w_input.value)**2 # 2乗する\n",
    "\n",
    "    # 二段サンプリングの式\n",
    "    variance = (M - m) / (M - 1) * sigma_sq_q / m + (N - n) / (N - 1) * sigma_sq_w / (M * n)\n",
    "    formula = r'\\frac{M-m}{M-1} \\cdot \\frac{\\sigma^2_q}{m} + \\frac{N-n}{N-1} \\cdot \\frac{\\sigma^2_w}{Mn}'\n",
    "\n",
    "    # 特別なケースの処理\n",
    "    if M == m:\n",
    "        variance = (N - n) / (N - 1) * sigma_sq_w / (M * n)\n",
    "        formula = r'\\frac{N-n}{N-1} \\cdot \\frac{\\sigma^2_w}{Mn}'\n",
    "    elif N == n:\n",
    "        variance = (M - m) / (M - 1) * sigma_sq_q / m\n",
    "        formula = r'\\frac{M-m}{M-1} \\cdot \\frac{\\sigma^2_q}{m}'\n",
    "\n",
    "    variance_result.value = f\"計算結果: {variance}\"\n",
    "    formula_result.value = f\"使用した式: ${formula}$\"\n",
    "\n",
    "\n",
    "\n",
    "\n",
    "\n",
    "\n",
    "M_input = widgets.FloatText(description='M (全体の箱数):')\n",
    "m_input = widgets.FloatText(description='m (選ばれた箱数):')\n",
    "N_input = widgets.FloatText(description='N (全体の項目数):')\n",
    "n_input = widgets.FloatText(description='n (選ばれた項目数):')\n",
    "sigma_sq_q_input = widgets.FloatText(description='σ²q (層間分散):')\n",
    "sigma_sq_w_input = widgets.FloatText(description='σ²w (層内分散):')\n",
    "\n",
    "calculate_button = widgets.Button(description=\"計算\")\n",
    "calculate_button.on_click(calculate_sampling)\n",
    "\n",
    "variance_result = widgets.Label()\n",
    "formula_result = widgets.Label()\n",
    "\n",
    "display(M_input, m_input, N_input, n_input, sigma_sq_q_input, sigma_sq_w_input, calculate_button, variance_result, formula_result)\n"
   ]
  },
  {
   "cell_type": "code",
   "execution_count": null,
   "id": "072bd5de-ae72-4048-9bd1-ec5d029b310e",
   "metadata": {},
   "outputs": [],
   "source": []
  },
  {
   "cell_type": "markdown",
   "id": "31e09116-c999-4e87-ad3a-840fdb22e8e0",
   "metadata": {
    "tags": []
   },
   "source": [
    "# simple random sampling単純サンプリング"
   ]
  },
  {
   "cell_type": "code",
   "execution_count": 28,
   "id": "9a220126-8bfc-479d-a385-cab95590b394",
   "metadata": {},
   "outputs": [
    {
     "data": {
      "application/vnd.jupyter.widget-view+json": {
       "model_id": "71eae7724c834b60a4b0e8ce7fa0f17c",
       "version_major": 2,
       "version_minor": 0
      },
      "text/plain": [
       "FloatText(value=0.0, description='全体の数:')"
      ]
     },
     "metadata": {},
     "output_type": "display_data"
    },
    {
     "data": {
      "application/vnd.jupyter.widget-view+json": {
       "model_id": "9f72b71b6d6a4339a61ea819dec257e1",
       "version_major": 2,
       "version_minor": 0
      },
      "text/plain": [
       "FloatText(value=0.0, description='サンプリング数:')"
      ]
     },
     "metadata": {},
     "output_type": "display_data"
    },
    {
     "data": {
      "application/vnd.jupyter.widget-view+json": {
       "model_id": "bbbbb18a697644788146e80f5c4640c6",
       "version_major": 2,
       "version_minor": 0
      },
      "text/plain": [
       "FloatText(value=0.0, description='σ^2:')"
      ]
     },
     "metadata": {},
     "output_type": "display_data"
    },
    {
     "data": {
      "application/vnd.jupyter.widget-view+json": {
       "model_id": "7292ced472d649a28ce2bac2ac62fda4",
       "version_major": 2,
       "version_minor": 0
      },
      "text/plain": [
       "Button(description='計算', style=ButtonStyle())"
      ]
     },
     "metadata": {},
     "output_type": "display_data"
    },
    {
     "data": {
      "application/vnd.jupyter.widget-view+json": {
       "model_id": "ea19b16ee0214c2687fd4c4dc723e705",
       "version_major": 2,
       "version_minor": 0
      },
      "text/plain": [
       "Label(value='')"
      ]
     },
     "metadata": {},
     "output_type": "display_data"
    }
   ],
   "source": [
    "import ipywidgets as widgets\n",
    "from IPython.display import display\n",
    "\n",
    "variance_result = widgets.Label()\n",
    "\n",
    "def calculate_simple_sampling(b):\n",
    "    total_count = float(total_count_input.value)\n",
    "    sample_count = float(sample_count_input.value)\n",
    "    sigma_squared = float(sigma_squared_input.value)\n",
    "    \n",
    "    variance = (total_count - sample_count) / (total_count - 1) * sigma_squared / sample_count\n",
    "    variance_result.value = f\"計算結果: {variance}\"\n",
    "\n",
    "total_count_input = widgets.FloatText(description='全体の数:')\n",
    "sample_count_input = widgets.FloatText(description='サンプリング数:')\n",
    "sigma_squared_input = widgets.FloatText(description='σ^2:')\n",
    "\n",
    "calculate_button_simple = widgets.Button(description=\"計算\")\n",
    "calculate_button_simple.on_click(calculate_simple_sampling)\n",
    "\n",
    "display(total_count_input, sample_count_input, sigma_squared_input, calculate_button_simple, variance_result)\n"
   ]
  },
  {
   "cell_type": "code",
   "execution_count": null,
   "id": "02d43a99-c922-4ec4-b811-fd97d82055b7",
   "metadata": {},
   "outputs": [],
   "source": []
  }
 ],
 "metadata": {
  "kernelspec": {
   "display_name": "Python 3 (ipykernel)",
   "language": "python",
   "name": "python3"
  },
  "language_info": {
   "codemirror_mode": {
    "name": "ipython",
    "version": 3
   },
   "file_extension": ".py",
   "mimetype": "text/x-python",
   "name": "python",
   "nbconvert_exporter": "python",
   "pygments_lexer": "ipython3",
   "version": "3.7.16"
  }
 },
 "nbformat": 4,
 "nbformat_minor": 5
}

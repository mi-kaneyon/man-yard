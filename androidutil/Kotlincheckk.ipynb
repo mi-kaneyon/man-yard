{
 "cells": [
  {
   "cell_type": "markdown",
   "id": "39b7f187-68ca-4361-b359-7b9e0a527944",
   "metadata": {},
   "source": [
    "# Kotlin {} pair checker"
   ]
  },
  {
   "cell_type": "code",
   "execution_count": 3,
   "id": "f09c1a55-bf18-4d3d-b4d5-d023123a4424",
   "metadata": {},
   "outputs": [
    {
     "name": "stdout",
     "output_type": "stream",
     "text": [
      "No missing brace pairs found\n"
     ]
    }
   ],
   "source": [
    "def check_braces(file_path):\n",
    "    stack = []\n",
    "    with open(file_path, 'r') as file:\n",
    "        for line_num, line in enumerate(file, start=1):\n",
    "            for char_num, char in enumerate(line, start=1):\n",
    "                if char == '{':\n",
    "                    stack.append((line_num, char_num))\n",
    "                elif char == '}':\n",
    "                    if not stack:\n",
    "                        return line_num, char_num\n",
    "                    stack.pop()\n",
    "\n",
    "    if stack:\n",
    "        return stack[-1]\n",
    "    else:\n",
    "        return None\n",
    "\n",
    "# Usage example\n",
    "file_path = 'CameraActivity.kt'  # Update with the correct file path\n",
    "result = check_braces(file_path)\n",
    "if result:\n",
    "    line_num, char_num = result\n",
    "    print(f\"Missing opening brace '{{' at line {line_num}, character {char_num}\")\n",
    "else:\n",
    "    print(\"No missing brace pairs found\")\n"
   ]
  }
 ],
 "metadata": {
  "kernelspec": {
   "display_name": "Python 3",
   "language": "python",
   "name": "python3"
  },
  "language_info": {
   "codemirror_mode": {
    "name": "ipython",
    "version": 3
   },
   "file_extension": ".py",
   "mimetype": "text/x-python",
   "name": "python",
   "nbconvert_exporter": "python",
   "pygments_lexer": "ipython3",
   "version": "3.8.8"
  }
 },
 "nbformat": 4,
 "nbformat_minor": 5
}

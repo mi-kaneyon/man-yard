{
 "cells": [
  {
   "cell_type": "markdown",
   "id": "e836c10e-85cd-4eba-af2f-211ef19e8157",
   "metadata": {},
   "source": [
    "# Make Kids fun simple mosaic person"
   ]
  },
  {
   "cell_type": "code",
   "execution_count": null,
   "id": "38b2537c-827d-4433-a391-fa2fef12990a",
   "metadata": {},
   "outputs": [],
   "source": [
    "import cv2\n",
    "import torch\n",
    "import numpy as np\n",
    "from torchvision.models.segmentation import deeplabv3_resnet50  # Importing ResNet-50 version\n",
    "from torchvision.transforms import functional as F\n",
    "\n",
    "# Load the model with pre-trained weights\n",
    "model = deeplabv3_resnet50(pretrained=True)  # Using ResNet-50\n",
    "model = model.cuda()\n",
    "model.eval()\n",
    "\n",
    "cap = cv2.VideoCapture(0)\n",
    "\n",
    "# Set the video resolution to 1280x720\n",
    "cap.set(cv2.CAP_PROP_FRAME_WIDTH, 800)\n",
    "cap.set(cv2.CAP_PROP_FRAME_HEIGHT, 600)\n",
    "\n",
    "mosaic_level = 16  # Adjust mosaic level as desired\n",
    "\n",
    "while True:\n",
    "    ret, frame = cap.read()\n",
    "    if not ret:\n",
    "        break\n",
    "\n",
    "    # Convert the image to PIL format\n",
    "    image = F.to_tensor(frame).unsqueeze(0).cuda()  # Move the input tensor to GPU\n",
    "\n",
    "    # Perform inference\n",
    "    with torch.no_grad():\n",
    "        output = model(image)['out']\n",
    "    output_predictions = output.argmax(1).squeeze().cpu().numpy()\n",
    "\n",
    "    # Create a mask and composite image\n",
    "    mask = output_predictions == 15  # 15 is the label for 'person' in COCO\n",
    "    mask = mask.astype(np.uint8) * 255  # Convert the mask to uint8 for compatibility\n",
    "\n",
    "    # Resize the mask to match the frame dimensions\n",
    "    mask_resized = cv2.resize(mask, (frame.shape[1], frame.shape[0]), interpolation=cv2.INTER_NEAREST)\n",
    "\n",
    "    # Apply mosaic effect only to the person's body\n",
    "    frame_mosaic = cv2.resize(frame, (frame.shape[1] // mosaic_level, frame.shape[0] // mosaic_level),\n",
    "                              interpolation=cv2.INTER_NEAREST)\n",
    "    frame_mosaic = cv2.resize(frame_mosaic, (frame.shape[1], frame.shape[0]), interpolation=cv2.INTER_NEAREST)\n",
    "\n",
    "    # Create a composite image by applying mosaic effect only to the person\n",
    "    composite = np.where(mask_resized[..., None], frame_mosaic, frame)\n",
    "\n",
    "    cv2.imshow('frame', composite)\n",
    "    if cv2.waitKey(1) & 0xFF == ord('q'):\n",
    "        break\n",
    "\n",
    "cap.release()\n",
    "cv2.destroyAllWindows()\n"
   ]
  }
 ],
 "metadata": {
  "kernelspec": {
   "display_name": "Python 3 (ipykernel)",
   "language": "python",
   "name": "python3"
  },
  "language_info": {
   "codemirror_mode": {
    "name": "ipython",
    "version": 3
   },
   "file_extension": ".py",
   "mimetype": "text/x-python",
   "name": "python",
   "nbconvert_exporter": "python",
   "pygments_lexer": "ipython3",
   "version": "3.7.16"
  }
 },
 "nbformat": 4,
 "nbformat_minor": 5
}

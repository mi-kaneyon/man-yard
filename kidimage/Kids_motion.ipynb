{
 "cells": [
  {
   "cell_type": "markdown",
   "id": "5502f99f-bcc9-488d-be28-b9b9c61fb186",
   "metadata": {},
   "source": [
    "# KIDS motion tracking"
   ]
  },
  {
   "cell_type": "code",
   "execution_count": 20,
   "id": "ca73c9bf-6a16-468f-aa74-d36d9ab5971d",
   "metadata": {},
   "outputs": [],
   "source": [
    "import cv2\n",
    "import numpy as np\n",
    "\n",
    "# Initialize webcam\n",
    "cap = cv2.VideoCapture(0)\n",
    "\n",
    "# Initialize variables to store frames\n",
    "frames = []\n",
    "\n",
    "# Loop to continuously get frames\n",
    "while True:\n",
    "    # Read a frame from the webcam\n",
    "    ret, frame = cap.read()\n",
    "\n",
    "    # Append the frame to the frames list\n",
    "    frames.append(frame)\n",
    "\n",
    "    # Limit the frames list to 5 items for the motion trail effect\n",
    "    if len(frames) > 100:\n",
    "        del frames[0]\n",
    "    \n",
    "    # Create the motion trail effect using alpha blending\n",
    "    if len(frames) > 1:\n",
    "        alpha = 0.2  # Set the alpha. Change as needed.\n",
    "        blended_frame = cv2.addWeighted(frames[-1], 1 - alpha, frames[-2], alpha, 0)\n",
    "        for i in range(2, len(frames)):\n",
    "            blended_frame = cv2.addWeighted(blended_frame, 1 - alpha, frames[-i-1], alpha, 0)\n",
    "\n",
    "        # Display the frame with motion trail effect\n",
    "        cv2.imshow('Motion Trail', blended_frame)\n",
    "\n",
    "    # Break the loop if 'q' is pressed\n",
    "    if cv2.waitKey(1) & 0xFF == ord('q'):\n",
    "        break\n",
    "\n",
    "# Release the webcam and destroy all OpenCV windows\n",
    "cap.release()\n",
    "cv2.destroyAllWindows()\n"
   ]
  },
  {
   "cell_type": "markdown",
   "id": "57df8761-855e-4147-b910-f287b89d3489",
   "metadata": {},
   "source": [
    "# Normal color"
   ]
  },
  {
   "cell_type": "code",
   "execution_count": null,
   "id": "f2e44c45-9f1a-4264-bae0-a8dc9041de5b",
   "metadata": {},
   "outputs": [],
   "source": []
  }
 ],
 "metadata": {
  "kernelspec": {
   "display_name": "Python 3 (ipykernel)",
   "language": "python",
   "name": "python3"
  },
  "language_info": {
   "codemirror_mode": {
    "name": "ipython",
    "version": 3
   },
   "file_extension": ".py",
   "mimetype": "text/x-python",
   "name": "python",
   "nbconvert_exporter": "python",
   "pygments_lexer": "ipython3",
   "version": "3.7.16"
  }
 },
 "nbformat": 4,
 "nbformat_minor": 5
}

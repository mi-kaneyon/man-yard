{
 "cells": [
  {
   "cell_type": "markdown",
   "id": "ccfa3588-39fe-4f67-8aa6-d43d58465fb4",
   "metadata": {},
   "source": [
    "# 移す価値無"
   ]
  },
  {
   "cell_type": "code",
   "execution_count": 1,
   "id": "83cdacd5-943d-4060-8546-04bf458f7d7d",
   "metadata": {},
   "outputs": [
    {
     "name": "stderr",
     "output_type": "stream",
     "text": [
      "C:\\Users\\Manyan\\anaconda3\\envs\\osac\\lib\\site-packages\\torchvision\\models\\_utils.py:209: UserWarning: The parameter 'pretrained' is deprecated since 0.13 and may be removed in the future, please use 'weights' instead.\n",
      "  f\"The parameter '{pretrained_param}' is deprecated since 0.13 and may be removed in the future, \"\n",
      "C:\\Users\\Manyan\\anaconda3\\envs\\osac\\lib\\site-packages\\torchvision\\models\\_utils.py:223: UserWarning: Arguments other than a weight enum or `None` for 'weights' are deprecated since 0.13 and may be removed in the future. The current behavior is equivalent to passing `weights=DeepLabV3_ResNet101_Weights.COCO_WITH_VOC_LABELS_V1`. You can also use `weights=DeepLabV3_ResNet101_Weights.DEFAULT` to get the most up-to-date weights.\n",
      "  warnings.warn(msg)\n"
     ]
    },
    {
     "name": "stdout",
     "output_type": "stream",
     "text": [
      "Capturing background in 5 seconds...\n",
      "Press 'q' to quit.\n"
     ]
    }
   ],
   "source": [
    "import cv2\n",
    "import torch\n",
    "import numpy as np\n",
    "import time\n",
    "from torchvision import transforms\n",
    "from torchvision.models.segmentation import deeplabv3_resnet101\n",
    "\n",
    "# Initialize the device\n",
    "device = torch.device('cuda' if torch.cuda.is_available() else 'cpu')\n",
    "\n",
    "# Load the pre-trained model\n",
    "model = deeplabv3_resnet101(pretrained=True).eval().to(device)\n",
    "\n",
    "# Initialize camera\n",
    "cap = cv2.VideoCapture(0)\n",
    "\n",
    "# Wait for 5 seconds to capture the background\n",
    "print(\"Capturing background in 5 seconds...\")\n",
    "time.sleep(5)\n",
    "ret, background_frame = cap.read()\n",
    "\n",
    "print(\"Press 'q' to quit.\")\n",
    "\n",
    "while True:\n",
    "    ret, frame = cap.read()\n",
    "\n",
    "    # Prepare the frame for the model\n",
    "    input_frame = transforms.Compose([\n",
    "        transforms.ToPILImage(),\n",
    "        transforms.Resize((224, 224)),\n",
    "        transforms.ToTensor(),\n",
    "        transforms.Normalize(mean=[0.485, 0.456, 0.406], std=[0.229, 0.224, 0.225]),\n",
    "    ])(frame).unsqueeze(0).to(device)\n",
    "\n",
    "    # Make predictions\n",
    "    with torch.no_grad():\n",
    "        output = model(input_frame)['out'][0]\n",
    "    output_predictions = torch.argmax(output, dim=0).byte().cpu().numpy()\n",
    "\n",
    "    # Resize the output to match the frame size\n",
    "    output_predictions_resized = cv2.resize(output_predictions, (frame.shape[1], frame.shape[0]))\n",
    "\n",
    "# Replace the human part with the background\n",
    "    human_mask = output_predictions_resized == 15\n",
    "    replaced_frame = np.where(human_mask[:,:,None], background_frame, frame)\n",
    "\n",
    "\n",
    "    # Show the frame\n",
    "    cv2.imshow('Frame', replaced_frame)\n",
    "\n",
    "    if cv2.waitKey(1) & 0xFF == ord('q'):\n",
    "        break\n",
    "\n",
    "# Release the camera and close the windows\n",
    "cap.release()\n",
    "cv2.destroyAllWindows()\n"
   ]
  },
  {
   "cell_type": "code",
   "execution_count": null,
   "id": "338f29b2-b146-411f-92a0-ca76c5e38aa5",
   "metadata": {},
   "outputs": [],
   "source": []
  }
 ],
 "metadata": {
  "kernelspec": {
   "display_name": "Python 3 (ipykernel)",
   "language": "python",
   "name": "python3"
  },
  "language_info": {
   "codemirror_mode": {
    "name": "ipython",
    "version": 3
   },
   "file_extension": ".py",
   "mimetype": "text/x-python",
   "name": "python",
   "nbconvert_exporter": "python",
   "pygments_lexer": "ipython3",
   "version": "3.7.16"
  }
 },
 "nbformat": 4,
 "nbformat_minor": 5
}

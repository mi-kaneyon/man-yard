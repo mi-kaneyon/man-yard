{
 "cells": [
  {
   "cell_type": "markdown",
   "id": "5dcaf484-aeb5-484f-910b-65edd5da68fa",
   "metadata": {},
   "source": [
    "# なんかのこびとをつくる"
   ]
  },
  {
   "cell_type": "code",
   "execution_count": 22,
   "id": "9a800bf7-38ee-45c0-95fb-de47312f86d5",
   "metadata": {
    "tags": []
   },
   "outputs": [],
   "source": [
    "# Here is the updated code to include the new site for scraping:\n",
    "\n",
    "import os\n",
    "import requests\n",
    "from bs4 import BeautifulSoup\n",
    "from urllib.parse import urljoin\n",
    "\n",
    "# Ensure directories exist\n",
    "if not os.path.isdir(\"pic\"):\n",
    "    os.makedirs(\"pic\")\n",
    "if not os.path.isdir(\"name\"):\n",
    "    os.makedirs(\"name\")\n",
    "\n",
    "# URLs to scrape\n",
    "urls = [\"https://wikiwiki.jp/kobito/\", \"https://www.kobitos.com/kobitos\", \"https://www.1999.co.jp/10156056\"]\n",
    "\n",
    "for url in urls:\n",
    "    # Send a GET request\n",
    "    response = requests.get(url)\n",
    "    soup = BeautifulSoup(response.text, \"html.parser\")\n",
    "\n",
    "    # Save text data\n",
    "    text = soup.get_text()\n",
    "    with open(os.path.join(\"name\", f\"{url.replace('/', '_')}_text.txt\"), \"w\", encoding='utf-8') as f:\n",
    "        f.write(text)\n",
    "\n",
    "    # Save image data\n",
    "    for img in soup.find_all(\"img\"):\n",
    "        img_url = img.attrs.get(\"src\")\n",
    "        if img_url is None:\n",
    "            continue\n",
    "        if \".jpg\" in img_url or \".webp\" in img_url:\n",
    "            # If the image url is relative, prepend the base url (to make it absolute)\n",
    "            img_url = urljoin(url, img_url)\n",
    "            # Use the basename of the URL (the last part after /) as the filename\n",
    "            filename = os.path.join(\"pic\", os.path.basename(img_url))\n",
    "            # Send a GET request to download the image\n",
    "            img_data = requests.get(img_url).content\n",
    "            with open(filename, \"wb\") as f:\n",
    "                f.write(img_data)\n"
   ]
  },
  {
   "cell_type": "code",
   "execution_count": 23,
   "id": "ad4d92c3-f229-4dad-818f-330ef13c89ca",
   "metadata": {},
   "outputs": [
    {
     "name": "stdin",
     "output_type": "stream",
     "text": [
      "こびとの名前を入力してください:  ゆういこびと\n"
     ]
    }
   ],
   "source": [
    "from PIL import Image, ImageDraw, ImageFont\n",
    "import os\n",
    "import random\n",
    "\n",
    "# \"pic\"フォルダ内の全ての画像ファイル名を取得\n",
    "image_files = [f for f in os.listdir(\"pic\") if f.endswith(('.jpg', '.webp'))]\n",
    "\n",
    "# ランダムに2つの画像を選択\n",
    "img1 = Image.open(os.path.join(\"pic\", random.choice(image_files)))\n",
    "img2 = Image.open(os.path.join(\"pic\", random.choice(image_files)))\n",
    "\n",
    "# 2つの画像を同じサイズにリサイズ\n",
    "img1 = img1.resize((320, 320))\n",
    "img2 = img2.resize((320, 320))\n",
    "\n",
    "# 2つ目の画像を半透明にする\n",
    "img2 = img2.convert(\"RGBA\")\n",
    "for x in range(img2.width):\n",
    "    for y in range(img2.height):\n",
    "        r, g, b, a = img2.getpixel((x, y))\n",
    "        img2.putpixel((x, y), (r, g, b, int(a * 0.5)))\n",
    "\n",
    "# 2つの画像を重ね合わせる\n",
    "composite = Image.alpha_composite(img1.convert(\"RGBA\"), img2)\n",
    "\n",
    "# ユーザがこびとの名前を入力\n",
    "kobito_name = input(\"こびとの名前を入力してください: \")\n",
    "\n",
    "# テキストを追加する\n",
    "draw = ImageDraw.Draw(composite)\n",
    "font = ImageFont.truetype(\"arial.ttf\", 15)  # フォントとサイズを指定\n",
    "draw.text((10, 10), kobito_name, fill=\"black\", font=font)  # テキストの位置、内容、色、フォントを指定\n",
    "\n",
    "# 合成画像を表示\n",
    "composite.show()\n"
   ]
  },
  {
   "cell_type": "code",
   "execution_count": null,
   "id": "98a45b52-c26d-416f-8111-f7b3c6db47ea",
   "metadata": {},
   "outputs": [],
   "source": []
  }
 ],
 "metadata": {
  "kernelspec": {
   "display_name": "Python 3 (ipykernel)",
   "language": "python",
   "name": "python3"
  },
  "language_info": {
   "codemirror_mode": {
    "name": "ipython",
    "version": 3
   },
   "file_extension": ".py",
   "mimetype": "text/x-python",
   "name": "python",
   "nbconvert_exporter": "python",
   "pygments_lexer": "ipython3",
   "version": "3.7.16"
  }
 },
 "nbformat": 4,
 "nbformat_minor": 5
}

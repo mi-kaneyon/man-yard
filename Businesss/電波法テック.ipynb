{
 "cells": [
  {
   "cell_type": "markdown",
   "id": "f8b8b25b-871a-4aef-ae09-beede0c170b0",
   "metadata": {},
   "source": [
    "# 電波法何に入る？"
   ]
  },
  {
   "cell_type": "code",
   "execution_count": 7,
   "id": "82c628bb-73ea-408b-b686-b998ff06b9e1",
   "metadata": {},
   "outputs": [],
   "source": [
    "import pandas as pd\n"
   ]
  },
  {
   "cell_type": "code",
   "execution_count": 8,
   "id": "40cf75e7-33f8-485e-90f3-05aa5fa6a045",
   "metadata": {},
   "outputs": [],
   "source": [
    "def load_law_data(file_path):\n",
    "    return pd.read_excel(file_path)\n",
    "\n",
    "file_path = \"電波法.xlsx\"  # ファイルのパスを指定\n",
    "df = load_law_data(file_path)\n"
   ]
  },
  {
   "cell_type": "markdown",
   "id": "071473f8-49ed-4e98-acd2-b1674b4cdb77",
   "metadata": {},
   "source": [
    "# データのクエリ"
   ]
  },
  {
   "cell_type": "code",
   "execution_count": 9,
   "id": "1fb208ec-f281-466e-bbc2-82103428eb84",
   "metadata": {},
   "outputs": [
    {
     "name": "stdin",
     "output_type": "stream",
     "text": [
      "基準またはキーワードを入力してください（終了する場合は'q'）:  電気\n"
     ]
    },
    {
     "name": "stdout",
     "output_type": "stream",
     "text": [
      "該当するデータがありません。\n"
     ]
    },
    {
     "name": "stdin",
     "output_type": "stream",
     "text": [
      "基準またはキーワードを入力してください（終了する場合は'q'）:  電話\n"
     ]
    },
    {
     "data": {
      "text/html": [
       "<div>\n",
       "<style scoped>\n",
       "    .dataframe tbody tr th:only-of-type {\n",
       "        vertical-align: middle;\n",
       "    }\n",
       "\n",
       "    .dataframe tbody tr th {\n",
       "        vertical-align: top;\n",
       "    }\n",
       "\n",
       "    .dataframe thead th {\n",
       "        text-align: right;\n",
       "    }\n",
       "</style>\n",
       "<table border=\"1\" class=\"dataframe\">\n",
       "  <thead>\n",
       "    <tr style=\"text-align: right;\">\n",
       "      <th></th>\n",
       "      <th>A</th>\n",
       "      <th>B</th>\n",
       "      <th>C</th>\n",
       "    </tr>\n",
       "  </thead>\n",
       "  <tbody>\n",
       "    <tr>\n",
       "      <th>0</th>\n",
       "      <td>1</td>\n",
       "      <td>a</td>\n",
       "      <td>電話</td>\n",
       "    </tr>\n",
       "  </tbody>\n",
       "</table>\n",
       "</div>"
      ],
      "text/plain": [
       "   A  B   C\n",
       "0  1  a  電話"
      ]
     },
     "metadata": {},
     "output_type": "display_data"
    },
    {
     "name": "stdin",
     "output_type": "stream",
     "text": [
      "基準またはキーワードを入力してください（終了する場合は'q'）:  q\n"
     ]
    }
   ],
   "source": [
    "import pandas as pd\n",
    "from IPython.display import display\n",
    "\n",
    "# Excelファイルを読み込む\n",
    "df = pd.read_excel('電波法.xlsx')\n",
    "\n",
    "def query_data(df):\n",
    "    while True:\n",
    "        keyword = input(\"基準またはキーワードを入力してください（終了する場合は'q'）: \")\n",
    "        \n",
    "        if keyword.lower() == 'q':\n",
    "            break\n",
    "        \n",
    "        try:\n",
    "            results = df[df.apply(lambda row: row.astype(str).str.contains(keyword, case=False).any(), axis=1)]\n",
    "            \n",
    "            if results.empty:\n",
    "                print(\"該当するデータがありません。\")\n",
    "            else:\n",
    "                display(results)\n",
    "                \n",
    "        except Exception as e:\n",
    "            print(f\"エラーが発生しました: {e}\")\n",
    "\n",
    "# 関数を実行\n",
    "query_data(df)\n"
   ]
  },
  {
   "cell_type": "code",
   "execution_count": null,
   "id": "881a56aa-9b8a-401d-b2ee-e9224b5bf05e",
   "metadata": {},
   "outputs": [],
   "source": []
  }
 ],
 "metadata": {
  "kernelspec": {
   "display_name": "Python 3 (ipykernel)",
   "language": "python",
   "name": "python3"
  },
  "language_info": {
   "codemirror_mode": {
    "name": "ipython",
    "version": 3
   },
   "file_extension": ".py",
   "mimetype": "text/x-python",
   "name": "python",
   "nbconvert_exporter": "python",
   "pygments_lexer": "ipython3",
   "version": "3.7.16"
  }
 },
 "nbformat": 4,
 "nbformat_minor": 5
}

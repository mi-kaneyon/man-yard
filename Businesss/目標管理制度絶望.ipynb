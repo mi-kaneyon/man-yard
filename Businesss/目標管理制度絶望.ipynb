{
 "cells": [
  {
   "cell_type": "markdown",
   "id": "4f5f7cc5-f93f-407b-a397-1abdf36e5ff8",
   "metadata": {},
   "source": [
    "# 絶望の目標管理を経過確認しよう"
   ]
  },
  {
   "cell_type": "code",
   "execution_count": 10,
   "id": "9479b1c6-9dba-4c70-863d-8033d94798b5",
   "metadata": {},
   "outputs": [
    {
     "name": "stdout",
     "output_type": "stream",
     "text": [
      "役付き (計数: 2.5)\n",
      "役付き: 12500.0点\n",
      "ベテラン: 8000.0点\n",
      "一般: 4500.0点\n",
      "\n",
      "ベテラン (計数: 2)\n",
      "役付き: 10000.0点\n",
      "ベテラン: 6400.0点\n",
      "一般: 3600.0点\n",
      "\n",
      "一般 (計数: 1)\n",
      "役付き: 5000.0点\n",
      "ベテラン: 3200.0点\n",
      "一般: 1800.0点\n",
      "\n"
     ]
    }
   ],
   "source": [
    "# 共食い評価のデータを辞書型で定義します。\n",
    "evaluation_data = {\n",
    "    \"役付き\": 2.5,\n",
    "    \"ベテラン\": 2,\n",
    "    \"一般\": 1\n",
    "}\n",
    "\n",
    "# 職務達成数と営業利益額を辞書型で定義します。\n",
    "# ここでは仮の値を設定していますが、実際の値に変更してください。\n",
    "performance_data = {\n",
    "    \"役付き\": {\"職務達成数\": 10, \"営業利益額\": 500000},\n",
    "    \"ベテラン\": {\"職務達成数\": 8, \"営業利益額\": 400000},\n",
    "    \"一般\": {\"職務達成数\": 6, \"営業利益額\": 300000}\n",
    "}\n",
    "\n",
    "# 点数を計算する関数を定義します。\n",
    "def calculate_score(achievement, profit, factor):\n",
    "    # 職務達成数 x計数 x営業利益額(円）/ 1000が点数となります。\n",
    "    return achievement * factor * profit / 1000\n",
    "\n",
    "# 点数を表示する関数を定義します。\n",
    "def show_score(data, factor):\n",
    "    # 職種ごとに点数を計算して表示します。\n",
    "    for role, values in data.items():\n",
    "        # 職務達成数と営業利益額を取得します。\n",
    "        achievement = values[\"職務達成数\"]\n",
    "        profit = values[\"営業利益額\"]\n",
    "        # 点数を計算します。\n",
    "        score = calculate_score(achievement, profit, factor)\n",
    "        # 点数を表示します。\n",
    "        print(\"{}: {}点\".format(role, score))\n",
    "\n",
    "# 共食い評価ごとに点数を表示します。\n",
    "for role, factor in evaluation_data.items():\n",
    "    # 共食い評価の名前と計数を表示します。\n",
    "    print(\"{} (計数: {})\".format(role, factor))\n",
    "    # 点数を表示する関数を呼び出します。\n",
    "    show_score(performance_data, factor)\n",
    "    # 改行します。\n",
    "    print()\n"
   ]
  },
  {
   "cell_type": "code",
   "execution_count": null,
   "id": "4aed5506-8429-4dfc-ab7f-8496395eeb33",
   "metadata": {},
   "outputs": [],
   "source": []
  }
 ],
 "metadata": {
  "kernelspec": {
   "display_name": "Python 3 (ipykernel)",
   "language": "python",
   "name": "python3"
  },
  "language_info": {
   "codemirror_mode": {
    "name": "ipython",
    "version": 3
   },
   "file_extension": ".py",
   "mimetype": "text/x-python",
   "name": "python",
   "nbconvert_exporter": "python",
   "pygments_lexer": "ipython3",
   "version": "3.7.16"
  }
 },
 "nbformat": 4,
 "nbformat_minor": 5
}

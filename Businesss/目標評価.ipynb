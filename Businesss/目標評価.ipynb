{
 "cells": [
  {
   "cell_type": "markdown",
   "id": "3761e943-ffae-4640-b0ea-e42e1763b61e",
   "metadata": {},
   "source": [
    "# 目標管理は絶望のツール"
   ]
  },
  {
   "cell_type": "markdown",
   "id": "02afd341-845e-439a-8a84-53c9dceaef8a",
   "metadata": {},
   "source": [
    "# テスト表示"
   ]
  },
  {
   "cell_type": "code",
   "execution_count": 15,
   "id": "d4859538-c0a2-41ff-8ddb-eaa6b666bf23",
   "metadata": {},
   "outputs": [
    {
     "data": {
      "application/vnd.jupyter.widget-view+json": {
       "model_id": "3f55092ba2e64583a1d978ff5132996d",
       "version_major": 2,
       "version_minor": 0
      },
      "text/plain": [
       "Label(value='目標の明確さ')"
      ]
     },
     "metadata": {},
     "output_type": "display_data"
    },
    {
     "data": {
      "application/vnd.jupyter.widget-view+json": {
       "model_id": "480689e0a5c245358aaea1916144ad83",
       "version_major": 2,
       "version_minor": 0
      },
      "text/plain": [
       "IntSlider(value=2, max=4)"
      ]
     },
     "metadata": {},
     "output_type": "display_data"
    },
    {
     "data": {
      "application/vnd.jupyter.widget-view+json": {
       "model_id": "af3f205982824a2593f5693c553e66d2",
       "version_major": 2,
       "version_minor": 0
      },
      "text/plain": [
       "Label(value='上長のサポート')"
      ]
     },
     "metadata": {},
     "output_type": "display_data"
    },
    {
     "data": {
      "application/vnd.jupyter.widget-view+json": {
       "model_id": "e4039f7679794da2b52f184581fee23c",
       "version_major": 2,
       "version_minor": 0
      },
      "text/plain": [
       "IntSlider(value=2, max=4)"
      ]
     },
     "metadata": {},
     "output_type": "display_data"
    },
    {
     "data": {
      "application/vnd.jupyter.widget-view+json": {
       "model_id": "142b16759fd04552b654872450c9b569",
       "version_major": 2,
       "version_minor": 0
      },
      "text/plain": [
       "Label(value='報酬')"
      ]
     },
     "metadata": {},
     "output_type": "display_data"
    },
    {
     "data": {
      "application/vnd.jupyter.widget-view+json": {
       "model_id": "7441387b69204c4bb714361094b48839",
       "version_major": 2,
       "version_minor": 0
      },
      "text/plain": [
       "IntSlider(value=2, max=4)"
      ]
     },
     "metadata": {},
     "output_type": "display_data"
    },
    {
     "data": {
      "application/vnd.jupyter.widget-view+json": {
       "model_id": "50d21e6616754d3081e7da23b94159a8",
       "version_major": 2,
       "version_minor": 0
      },
      "text/plain": [
       "Label(value='上長の指向')"
      ]
     },
     "metadata": {},
     "output_type": "display_data"
    },
    {
     "data": {
      "application/vnd.jupyter.widget-view+json": {
       "model_id": "edc1763364c349079d7bec33c89d831f",
       "version_major": 2,
       "version_minor": 0
      },
      "text/plain": [
       "IntSlider(value=2, max=4)"
      ]
     },
     "metadata": {},
     "output_type": "display_data"
    },
    {
     "data": {
      "application/vnd.jupyter.widget-view+json": {
       "model_id": "b7ff28d2455a420f95e7da9894903d54",
       "version_major": 2,
       "version_minor": 0
      },
      "text/plain": [
       "Button(description='スコアを計算', style=ButtonStyle())"
      ]
     },
     "metadata": {},
     "output_type": "display_data"
    },
    {
     "data": {
      "application/vnd.jupyter.widget-view+json": {
       "model_id": "1f0571f3ccf840f5a8cda48be822ee86",
       "version_major": 2,
       "version_minor": 0
      },
      "text/plain": [
       "Label(value='')"
      ]
     },
     "metadata": {},
     "output_type": "display_data"
    }
   ],
   "source": [
    "import ipywidgets as widgets\n",
    "\n",
    "# Coefficients for scoring\n",
    "coefficients = [5, 3, 3, 1, 0.5]\n",
    "\n",
    "# Define sliders for user input\n",
    "sliders = {\n",
    "    \"目標の明確さ\": widgets.IntSlider(min=0, max=4, step=1, value=2),\n",
    "    \"上長のサポート\": widgets.IntSlider(min=0, max=4, step=1, value=2),\n",
    "    \"報酬\": widgets.IntSlider(min=0, max=4, step=1, value=2),\n",
    "    \"上長の指向\": widgets.IntSlider(min=0, max=4, step=1, value=2),\n",
    "}\n",
    "\n",
    "# List to store the calculated scores for different years\n",
    "scores_list = []\n",
    "\n",
    "# Define a function to calculate the score based on user input\n",
    "def calculate_score(b):\n",
    "    total_score = 0\n",
    "    for key, slider in sliders.items():\n",
    "        total_score += coefficients[slider.value]\n",
    "\n",
    "    scores_list.append(total_score)  # Current score\n",
    "    scores_list.append(total_score * 1.1) # Score after 1 year (for example, 10% increase)\n",
    "    scores_list.append(total_score * 1.3) # Score after 5 years (for example, 30% increase)\n",
    "    scores_list.append(total_score * 1.5) # Score after 10 years (for example, 50% increase)\n",
    "    \n",
    "    score_label.value = f\"合計スコア: {total_score}\"\n",
    "\n",
    "# Create button to trigger calculation\n",
    "button = widgets.Button(description=\"スコアを計算\")\n",
    "button.on_click(calculate_score)\n",
    "\n",
    "# Display sliders, button, and score label\n",
    "score_label = widgets.Label()\n",
    "for key, slider in sliders.items():\n",
    "    display(widgets.Label(key))\n",
    "    display(slider)\n",
    "display(button)\n",
    "display(score_label)\n"
   ]
  },
  {
   "cell_type": "markdown",
   "id": "a64eb17d-6a7f-4db2-b7ff-385e0516eb24",
   "metadata": {},
   "source": [
    "# あなたの将来？"
   ]
  },
  {
   "cell_type": "code",
   "execution_count": 19,
   "id": "5d90c37e-fa3a-43dc-82ff-23a8b8710b40",
   "metadata": {
    "tags": []
   },
   "outputs": [
    {
     "data": {
      "image/png": "[encoded data removed]",
      "text/plain": [
       "<Figure size 640x480 with 1 Axes>"
      ]
     },
     "metadata": {},
     "output_type": "display_data"
    }
   ],
   "source": [
    "import matplotlib.pyplot as plt\n",
    "import matplotlib.font_manager as fm\n",
    "\n",
    "# 日本語フォントのパスを指定\n",
    "japanese_font_path = 'C:\\\\Windows\\\\Fonts\\\\meiryo.ttc'\n",
    "\n",
    "# フォントプロパティをセット\n",
    "font_prop = fm.FontProperties(fname=japanese_font_path)\n",
    "\n",
    "# グラフのラベルやタイトルに日本語フォントプロパティを使用\n",
    "plt.xlabel('年数', fontproperties=font_prop)\n",
    "plt.ylabel('絶望度', fontproperties=font_prop)\n",
    "plt.title('絶望度の推移', fontproperties=font_prop)\n",
    "plt.plot(years, scores_list)\n",
    "plt.show()\n"
   ]
  },
  {
   "cell_type": "code",
   "execution_count": null,
   "id": "92cbbed3-3d8e-426d-b9d1-599ae21040d7",
   "metadata": {},
   "outputs": [],
   "source": []
  }
 ],
 "metadata": {
  "kernelspec": {
   "display_name": "Python 3 (ipykernel)",
   "language": "python",
   "name": "python3"
  },
  "language_info": {
   "codemirror_mode": {
    "name": "ipython",
    "version": 3
   },
   "file_extension": ".py",
   "mimetype": "text/x-python",
   "name": "python",
   "nbconvert_exporter": "python",
   "pygments_lexer": "ipython3",
   "version": "3.7.16"
  }
 },
 "nbformat": 4,
 "nbformat_minor": 5
}

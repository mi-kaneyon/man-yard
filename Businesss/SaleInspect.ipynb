{
 "cells": [
  {
   "cell_type": "markdown",
   "id": "addc9fb8-9ae6-4536-81d7-022dd10b0309",
   "metadata": {},
   "source": [
    "# 売り上げマネージャー"
   ]
  },
  {
   "cell_type": "markdown",
   "id": "44180ac6-60ca-42a4-bc82-cc5232b33af9",
   "metadata": {},
   "source": [
    "## 試運転"
   ]
  },
  {
   "cell_type": "code",
   "execution_count": 14,
   "id": "9c1d14ce-69a4-4546-a5f2-d535f9d668f1",
   "metadata": {},
   "outputs": [
    {
     "data": {
      "application/vnd.jupyter.widget-view+json": {
       "model_id": "ba0d7c38e8a040feaaf0b6a7c66bc3d0",
       "version_major": 2,
       "version_minor": 0
      },
      "text/plain": [
       "IntSlider(value=0, description='Planned Cost:', max=100000, step=1000)"
      ]
     },
     "metadata": {},
     "output_type": "display_data"
    },
    {
     "data": {
      "application/vnd.jupyter.widget-view+json": {
       "model_id": "d54837b7c2074d8dac8d4356fad94124",
       "version_major": 2,
       "version_minor": 0
      },
      "text/plain": [
       "IntSlider(value=0, description='Actual Sales:', max=100000, step=1000)"
      ]
     },
     "metadata": {},
     "output_type": "display_data"
    },
    {
     "data": {
      "application/vnd.jupyter.widget-view+json": {
       "model_id": "0c1ec1182b53408ab0f393706c3cf8f9",
       "version_major": 2,
       "version_minor": 0
      },
      "text/plain": [
       "IntSlider(value=0, description='Inventory Rate:')"
      ]
     },
     "metadata": {},
     "output_type": "display_data"
    },
    {
     "data": {
      "application/vnd.jupyter.widget-view+json": {
       "model_id": "a10afe7ea2c24a98a2f739d1a91c24ee",
       "version_major": 2,
       "version_minor": 0
      },
      "text/plain": [
       "Output()"
      ]
     },
     "metadata": {},
     "output_type": "display_data"
    }
   ],
   "source": [
    "import ipywidgets as widgets\n",
    "from IPython.display import display\n",
    "import matplotlib.pyplot as plt\n",
    "import numpy as np\n",
    "\n",
    "# Create sliders\n",
    "planned_cost_slider = widgets.IntSlider(value=0, min=0, max=100000, step=1000, description='Planned Cost:')\n",
    "actual_sales_slider = widgets.IntSlider(value=0, min=0, max=100000, step=1000, description='Actual Sales:')\n",
    "inventory_rate_slider = widgets.IntSlider(value=0, min=0, max=100, step=1, description='Inventory Rate:')\n",
    "\n",
    "# Create output widget\n",
    "output = widgets.Output()\n",
    "\n",
    "# Function to perform calculation and plot\n",
    "def perform_calculation_and_plot(change):\n",
    "    with output:\n",
    "        output.clear_output()\n",
    "        planned_cost = planned_cost_slider.value\n",
    "        actual_sales = actual_sales_slider.value\n",
    "        inventory_rate = inventory_rate_slider.value\n",
    "        # Example calculation: Loss = Planned Cost - Actual Sales\n",
    "        loss = planned_cost - actual_sales\n",
    "        print(f\"Calculated Loss: {loss}\")\n",
    "        print(f\"Inventory Rate: {inventory_rate}\")\n",
    "\n",
    "        # Plot graphs based on these values\n",
    "        plot_graphs(planned_cost, actual_sales, inventory_rate)\n",
    "\n",
    "# Function to plot graphs based on slider values\n",
    "def plot_graphs(planned_cost, actual_sales, inventory_rate):\n",
    "    fig, ax = plt.subplots(2, 1, figsize=(10, 10))\n",
    "\n",
    "    # Data points\n",
    "    x = np.linspace(0, 10, 100)\n",
    "\n",
    "    # Scenario 1: If things stay the same\n",
    "    y1 = planned_cost - actual_sales + inventory_rate * x\n",
    "    ax[0].plot(x, y1, label='If things stay the same')\n",
    "    ax[0].set_title('Scenario 1: If things stay the same')\n",
    "    ax[0].set_xlabel('Time')\n",
    "    ax[0].set_ylabel('Loss')\n",
    "    ax[0].legend()\n",
    "\n",
    "    # Scenario 2: Ideal curve\n",
    "    y2 = planned_cost - 1.2 * actual_sales + 1.0 * inventory_rate * x\n",
    "    ax[1].plot(x, y2, label='Ideal scenario', color='g')\n",
    "    ax[1].set_title('Scenario 2: Ideal scenario')\n",
    "    ax[1].set_xlabel('Time')\n",
    "    ax[1].set_ylabel('Loss')\n",
    "    ax[1].legend()\n",
    "\n",
    "    plt.tight_layout()\n",
    "    plt.show()\n",
    "\n",
    "# Replace the old 'perform_calculation' function with this new one\n",
    "planned_cost_slider.observe(perform_calculation_and_plot, names='value')\n",
    "actual_sales_slider.observe(perform_calculation_and_plot, names='value')\n",
    "inventory_rate_slider.observe(perform_calculation_and_plot, names='value')\n",
    "\n",
    "# Display sliders and output\n",
    "display(planned_cost_slider, actual_sales_slider, inventory_rate_slider, output)\n"
   ]
  },
  {
   "cell_type": "code",
   "execution_count": null,
   "id": "a226b48b-e233-4695-b761-8a92adf2cf70",
   "metadata": {},
   "outputs": [],
   "source": []
  }
 ],
 "metadata": {
  "kernelspec": {
   "display_name": "Python 3 (ipykernel)",
   "language": "python",
   "name": "python3"
  },
  "language_info": {
   "codemirror_mode": {
    "name": "ipython",
    "version": 3
   },
   "file_extension": ".py",
   "mimetype": "text/x-python",
   "name": "python",
   "nbconvert_exporter": "python",
   "pygments_lexer": "ipython3",
   "version": "3.7.16"
  }
 },
 "nbformat": 4,
 "nbformat_minor": 5
}

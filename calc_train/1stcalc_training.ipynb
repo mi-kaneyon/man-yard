{
 "cells": [
  {
   "cell_type": "markdown",
   "id": "9ee4dfba-94d3-4d0a-9d98-c4c1717d44c6",
   "metadata": {},
   "source": [
    "# Calculation training けいさんれんしゅう"
   ]
  },
  {
   "cell_type": "code",
   "execution_count": 28,
   "id": "2ea8770a-7508-41e2-8e97-0f4af9ffe97b",
   "metadata": {},
   "outputs": [],
   "source": [
    "import random\n",
    "from IPython.display import display, Math, Latex, clear_output\n",
    "import ipywidgets as widgets\n",
    "\n",
    "# 問題生成関数\n",
    "def generate_math_problem():\n",
    "    operation = random.choice(['addition', 'subtraction', 'multiplication', 'division'])\n",
    "    num1, num2, answer, hint = None, None, None, None\n",
    "    \n",
    "    if operation == 'addition':\n",
    "        # 足し算：2桁+2桁、答えが1000以下\n",
    "        num1 = random.randint(10, 99)\n",
    "        num2 = random.randint(10, 99)\n",
    "        answer = num1 + num2\n",
    "        if answer > 1000:\n",
    "            return generate_math_problem()  # 1000以上なら再生成\n",
    "        hint = f\"{num1 // 10}□ + {num2 // 10} = {answer // 10}□\"\n",
    "    \n",
    "    elif operation == 'subtraction':\n",
    "        # 引き算：2桁-2桁、答えがマイナスにならない\n",
    "        num1 = random.randint(10, 99)\n",
    "        num2 = random.randint(10, num1)  # num1が常に大きい\n",
    "        answer = num1 - num2\n",
    "        hint = f\"{num1 // 10}□ - {num2 // 10} = {answer // 10}□\"\n",
    "    \n",
    "    elif operation == 'multiplication':\n",
    "        # 掛け算：1桁×2桁、答えが1000以下\n",
    "        num1 = random.randint(1, 9)\n",
    "        num2 = random.randint(10, 99)\n",
    "        answer = num1 * num2\n",
    "        if answer > 1000:\n",
    "            return generate_math_problem()  # 1000以上なら再生成\n",
    "        hint = f\"{num1} × {num2 // 10}□ = {answer // 10}□\"\n",
    "    \n",
    "    elif operation == 'division':\n",
    "        # 割り算：2桁÷1桁、あまりが出ない\n",
    "        num2 = random.randint(1, 9)\n",
    "        answer = random.randint(10, 99)\n",
    "        num1 = num2 * answer  # num1はnum2と割り切れる数\n",
    "        hint = f\"{num1 // 10}□ ÷ {num2} = {answer // 10}□\"\n",
    "    \n",
    "    return (operation, num1, num2, answer, hint)\n",
    "\n",
    "# 問題のリストを生成\n",
    "problems = [generate_math_problem() for _ in range(5)]\n"
   ]
  },
  {
   "cell_type": "code",
   "execution_count": 29,
   "id": "3335f15d-4ea3-4db5-96f3-a87db8f13490",
   "metadata": {},
   "outputs": [
    {
     "data": {
      "text/latex": [
       "$\\displaystyle 問題 1: 85 - 46 = ?$"
      ],
      "text/plain": [
       "<IPython.core.display.Math object>"
      ]
     },
     "metadata": {},
     "output_type": "display_data"
    },
    {
     "data": {
      "application/vnd.jupyter.widget-view+json": {
       "model_id": "9be49ffd39ba4707b1ca1a64b728dc2c",
       "version_major": 2,
       "version_minor": 0
      },
      "text/plain": [
       "Text(value='', placeholder='答えを入力してください')"
      ]
     },
     "metadata": {},
     "output_type": "display_data"
    },
    {
     "data": {
      "application/vnd.jupyter.widget-view+json": {
       "model_id": "b54f3d6087074bdc8ec30b0bac1cf41c",
       "version_major": 2,
       "version_minor": 0
      },
      "text/plain": [
       "Button(button_style='success', description='解答を確認する', style=ButtonStyle())"
      ]
     },
     "metadata": {},
     "output_type": "display_data"
    },
    {
     "data": {
      "application/vnd.jupyter.widget-view+json": {
       "model_id": "138d9f82b89d423a85514bcce0efeb2b",
       "version_major": 2,
       "version_minor": 0
      },
      "text/plain": [
       "Output()"
      ]
     },
     "metadata": {},
     "output_type": "display_data"
    },
    {
     "data": {
      "application/vnd.jupyter.widget-view+json": {
       "model_id": "4fa7630ffeb8454c93db3b3f15bc73df",
       "version_major": 2,
       "version_minor": 0
      },
      "text/plain": [
       "Button(button_style='info', description='ヒントを見る', style=ButtonStyle())"
      ]
     },
     "metadata": {},
     "output_type": "display_data"
    },
    {
     "data": {
      "application/vnd.jupyter.widget-view+json": {
       "model_id": "68eeb0aecddc4a9d9052b37f76dc3974",
       "version_major": 2,
       "version_minor": 0
      },
      "text/plain": [
       "Output()"
      ]
     },
     "metadata": {},
     "output_type": "display_data"
    },
    {
     "data": {
      "text/latex": [
       "$\\displaystyle 問題 2: 1 × 43 = ?$"
      ],
      "text/plain": [
       "<IPython.core.display.Math object>"
      ]
     },
     "metadata": {},
     "output_type": "display_data"
    },
    {
     "data": {
      "application/vnd.jupyter.widget-view+json": {
       "model_id": "e02e112b67204fadbf821db49cf46746",
       "version_major": 2,
       "version_minor": 0
      },
      "text/plain": [
       "Text(value='', placeholder='答えを入力してください')"
      ]
     },
     "metadata": {},
     "output_type": "display_data"
    },
    {
     "data": {
      "application/vnd.jupyter.widget-view+json": {
       "model_id": "683d708d35524decbe235dc20b84968e",
       "version_major": 2,
       "version_minor": 0
      },
      "text/plain": [
       "Button(button_style='success', description='解答を確認する', style=ButtonStyle())"
      ]
     },
     "metadata": {},
     "output_type": "display_data"
    },
    {
     "data": {
      "application/vnd.jupyter.widget-view+json": {
       "model_id": "fb9a91c89ed64b82bbc73e3c912fc9d6",
       "version_major": 2,
       "version_minor": 0
      },
      "text/plain": [
       "Output()"
      ]
     },
     "metadata": {},
     "output_type": "display_data"
    },
    {
     "data": {
      "application/vnd.jupyter.widget-view+json": {
       "model_id": "e311ccd4142d438492637f7aa1b94908",
       "version_major": 2,
       "version_minor": 0
      },
      "text/plain": [
       "Button(button_style='info', description='ヒントを見る', style=ButtonStyle())"
      ]
     },
     "metadata": {},
     "output_type": "display_data"
    },
    {
     "data": {
      "application/vnd.jupyter.widget-view+json": {
       "model_id": "6dd2c3114621409d877a0850f86ac5a0",
       "version_major": 2,
       "version_minor": 0
      },
      "text/plain": [
       "Output()"
      ]
     },
     "metadata": {},
     "output_type": "display_data"
    },
    {
     "data": {
      "text/latex": [
       "$\\displaystyle 問題 3: 46 + 89 = ?$"
      ],
      "text/plain": [
       "<IPython.core.display.Math object>"
      ]
     },
     "metadata": {},
     "output_type": "display_data"
    },
    {
     "data": {
      "application/vnd.jupyter.widget-view+json": {
       "model_id": "de3de557d44c4e1aac65f7b74cf66fe6",
       "version_major": 2,
       "version_minor": 0
      },
      "text/plain": [
       "Text(value='', placeholder='答えを入力してください')"
      ]
     },
     "metadata": {},
     "output_type": "display_data"
    },
    {
     "data": {
      "application/vnd.jupyter.widget-view+json": {
       "model_id": "c051b34f756e44eb89e00b15a2803743",
       "version_major": 2,
       "version_minor": 0
      },
      "text/plain": [
       "Button(button_style='success', description='解答を確認する', style=ButtonStyle())"
      ]
     },
     "metadata": {},
     "output_type": "display_data"
    },
    {
     "data": {
      "application/vnd.jupyter.widget-view+json": {
       "model_id": "c0f6d40c73dd46078a77c6c2ad3d6db4",
       "version_major": 2,
       "version_minor": 0
      },
      "text/plain": [
       "Output()"
      ]
     },
     "metadata": {},
     "output_type": "display_data"
    },
    {
     "data": {
      "application/vnd.jupyter.widget-view+json": {
       "model_id": "43a1d0f9ee22470f94536e8219990a81",
       "version_major": 2,
       "version_minor": 0
      },
      "text/plain": [
       "Button(button_style='info', description='ヒントを見る', style=ButtonStyle())"
      ]
     },
     "metadata": {},
     "output_type": "display_data"
    },
    {
     "data": {
      "application/vnd.jupyter.widget-view+json": {
       "model_id": "d5786f472a0b4d7b88d740b04e55d493",
       "version_major": 2,
       "version_minor": 0
      },
      "text/plain": [
       "Output()"
      ]
     },
     "metadata": {},
     "output_type": "display_data"
    },
    {
     "data": {
      "text/latex": [
       "$\\displaystyle 問題 4: 5 × 39 = ?$"
      ],
      "text/plain": [
       "<IPython.core.display.Math object>"
      ]
     },
     "metadata": {},
     "output_type": "display_data"
    },
    {
     "data": {
      "application/vnd.jupyter.widget-view+json": {
       "model_id": "995f31187f1b428f857a13c69a4ab404",
       "version_major": 2,
       "version_minor": 0
      },
      "text/plain": [
       "Text(value='', placeholder='答えを入力してください')"
      ]
     },
     "metadata": {},
     "output_type": "display_data"
    },
    {
     "data": {
      "application/vnd.jupyter.widget-view+json": {
       "model_id": "aea3013ce6ef41e9a512c619445bb785",
       "version_major": 2,
       "version_minor": 0
      },
      "text/plain": [
       "Button(button_style='success', description='解答を確認する', style=ButtonStyle())"
      ]
     },
     "metadata": {},
     "output_type": "display_data"
    },
    {
     "data": {
      "application/vnd.jupyter.widget-view+json": {
       "model_id": "75177288f1b74f74a796b343a7b83906",
       "version_major": 2,
       "version_minor": 0
      },
      "text/plain": [
       "Output()"
      ]
     },
     "metadata": {},
     "output_type": "display_data"
    },
    {
     "data": {
      "application/vnd.jupyter.widget-view+json": {
       "model_id": "9247b3d06386432281c0599eb621b54e",
       "version_major": 2,
       "version_minor": 0
      },
      "text/plain": [
       "Button(button_style='info', description='ヒントを見る', style=ButtonStyle())"
      ]
     },
     "metadata": {},
     "output_type": "display_data"
    },
    {
     "data": {
      "application/vnd.jupyter.widget-view+json": {
       "model_id": "9352354191e44685b61d05455e1742ed",
       "version_major": 2,
       "version_minor": 0
      },
      "text/plain": [
       "Output()"
      ]
     },
     "metadata": {},
     "output_type": "display_data"
    },
    {
     "data": {
      "text/latex": [
       "$\\displaystyle 問題 5: 3 × 39 = ?$"
      ],
      "text/plain": [
       "<IPython.core.display.Math object>"
      ]
     },
     "metadata": {},
     "output_type": "display_data"
    },
    {
     "data": {
      "application/vnd.jupyter.widget-view+json": {
       "model_id": "834335db585a49afbcc64789e89f8317",
       "version_major": 2,
       "version_minor": 0
      },
      "text/plain": [
       "Text(value='', placeholder='答えを入力してください')"
      ]
     },
     "metadata": {},
     "output_type": "display_data"
    },
    {
     "data": {
      "application/vnd.jupyter.widget-view+json": {
       "model_id": "15aa4a9e77ef401885b6d35776ff53fe",
       "version_major": 2,
       "version_minor": 0
      },
      "text/plain": [
       "Button(button_style='success', description='解答を確認する', style=ButtonStyle())"
      ]
     },
     "metadata": {},
     "output_type": "display_data"
    },
    {
     "data": {
      "application/vnd.jupyter.widget-view+json": {
       "model_id": "8b9b4ead4c5a4ceea4979a15315bd01f",
       "version_major": 2,
       "version_minor": 0
      },
      "text/plain": [
       "Output()"
      ]
     },
     "metadata": {},
     "output_type": "display_data"
    },
    {
     "data": {
      "application/vnd.jupyter.widget-view+json": {
       "model_id": "cf3db9f1a40e4b46afe5ad49d75cfb0d",
       "version_major": 2,
       "version_minor": 0
      },
      "text/plain": [
       "Button(button_style='info', description='ヒントを見る', style=ButtonStyle())"
      ]
     },
     "metadata": {},
     "output_type": "display_data"
    },
    {
     "data": {
      "application/vnd.jupyter.widget-view+json": {
       "model_id": "7477efb7eab345d1997214c6fdaf6beb",
       "version_major": 2,
       "version_minor": 0
      },
      "text/plain": [
       "Output()"
      ]
     },
     "metadata": {},
     "output_type": "display_data"
    },
    {
     "data": {
      "application/vnd.jupyter.widget-view+json": {
       "model_id": "8a9e74e784dc42a590e7c010ec09e144",
       "version_major": 2,
       "version_minor": 0
      },
      "text/plain": [
       "Button(button_style='primary', description='成績を表示', style=ButtonStyle())"
      ]
     },
     "metadata": {},
     "output_type": "display_data"
    },
    {
     "data": {
      "application/vnd.jupyter.widget-view+json": {
       "model_id": "7e109fd2a01249dda4ca6da75ca27ed8",
       "version_major": 2,
       "version_minor": 0
      },
      "text/plain": [
       "Output()"
      ]
     },
     "metadata": {},
     "output_type": "display_data"
    }
   ],
   "source": [
    "from IPython.display import display, Math, Latex, clear_output\n",
    "import ipywidgets as widgets\n",
    "\n",
    "# 問題とヒントを表示し、解答をチェックする関数\n",
    "def display_problem_with_hint(problems):\n",
    "    correct_count = [0]  # リストで包むことで、クロージャ内でのスコープ管理を行う\n",
    "    output_all = widgets.Output()  # 最終的な成績を表示するエリア\n",
    "    \n",
    "    for i, (operation, num1, num2, answer, hint) in enumerate(problems):\n",
    "        # 問題の表示\n",
    "        display(Math(f\"問題 {i+1}: {num1} {'+' if operation == 'addition' else '-' if operation == 'subtraction' else '×' if operation == 'multiplication' else '÷'} {num2} = ?\"))\n",
    "\n",
    "        # 出力エリアを作成\n",
    "        output = widgets.Output()\n",
    "        \n",
    "        # ヒントを表示するためのボタンを作成\n",
    "        hint_button = widgets.Button(description=\"ヒントを見る\", button_style='info')\n",
    "        \n",
    "        # 解答入力テキストボックス\n",
    "        answer_input = widgets.Text(placeholder='答えを入力してください')\n",
    "        \n",
    "        # 解答確認ボタン\n",
    "        check_button = widgets.Button(description=\"解答を確認する\", button_style='success')\n",
    "        \n",
    "        # 答えの正誤を表示するためのエリア\n",
    "        result_output = widgets.Output()\n",
    "\n",
    "        # ボタンクリック時のイベントハンドラ - ヒント表示\n",
    "        def on_hint_button_clicked(b, output=output, operation=operation, num1=num1, num2=num2):\n",
    "            with output:\n",
    "                output.clear_output()  # 以前の出力をクリア\n",
    "                \n",
    "                # 問題の内容に応じたヒントを生成\n",
    "                if operation == 'addition':\n",
    "                    hint_text = generate_addition_hint(num1, num2)\n",
    "                    display(Latex(hint_text))\n",
    "                elif operation == 'subtraction':\n",
    "                    hint_text = generate_subtraction_hint(num1, num2)\n",
    "                    display(Latex(hint_text))\n",
    "                elif operation == 'multiplication':\n",
    "                    hint_text = generate_multiplication_hint(num1, num2)\n",
    "                    display(Latex(hint_text))\n",
    "                elif operation == 'division':\n",
    "                    hint_text = generate_division_hint(num1, num2)\n",
    "                    display(Latex(hint_text))\n",
    "        \n",
    "        # 解答を確認するボタンのイベントハンドラ - 正誤チェック\n",
    "        def on_check_button_clicked(b, user_answer=answer_input, correct_answer=answer, result_output=result_output):\n",
    "            with result_output:\n",
    "                result_output.clear_output()  # 以前の出力をクリア\n",
    "                try:\n",
    "                    if int(user_answer.value) == correct_answer:\n",
    "                        display(Latex(r\"\\text{正解！}\"))\n",
    "                        correct_count[0] += 1  # リスト内の正解数をカウント\n",
    "                    else:\n",
    "                        display(Latex(r\"\\text{不正解です。正解は \" + str(correct_answer) + r\" です。}\"))  # 不正解時の表示を追加\n",
    "                except ValueError:\n",
    "                    display(Latex(r\"\\text{数字で答えを入力してください。}\"))\n",
    "        \n",
    "        # ボタンにクリックイベントハンドラを設定\n",
    "        hint_button.on_click(on_hint_button_clicked)\n",
    "        check_button.on_click(on_check_button_clicked)\n",
    "        \n",
    "        # ボタンと出力エリアを表示\n",
    "        display(answer_input)\n",
    "        display(check_button, result_output)\n",
    "        display(hint_button, output)\n",
    "    \n",
    "    # 成績を表示するボタン\n",
    "    show_score_button = widgets.Button(description=\"成績を表示\", button_style='primary')\n",
    "\n",
    "    # 成績表示ボタンのイベントハンドラ\n",
    "    def on_show_score_button_clicked(b):\n",
    "        with output_all:\n",
    "            output_all.clear_output()  # 以前の出力をクリア\n",
    "            score = (correct_count[0] / len(problems)) * 100\n",
    "            display(Latex(r\"\\text{あなたの成績: }\" + str(correct_count[0]) + r\"/\" + str(len(problems)) + r\"\\text{ 正解}\"))\n",
    "            display(Latex(r\"\\text{スコア: }\" + str(score) + r\"\\%\"))\n",
    "    \n",
    "    # 成績表示ボタンにイベントハンドラを設定\n",
    "    show_score_button.on_click(on_show_score_button_clicked)\n",
    "    \n",
    "    # 最終的な成績表示ボタンを表示\n",
    "    display(show_score_button, output_all)\n",
    "\n",
    "# 各計算のヒント生成関数\n",
    "def generate_addition_hint(num1, num2):\n",
    "    # 足し算の筆算ヒントを生成\n",
    "    ones_place_sum = (num1 % 10) + (num2 % 10)\n",
    "    tens_place_sum = (num1 // 10) + (num2 // 10) + (ones_place_sum // 10)\n",
    "    hint_text = f\"1の位を計算します: {num1 % 10} + {num2 % 10} = {ones_place_sum}。次に10の位を計算します: {num1 // 10} + {num2 // 10} + 繰り上がり = {tens_place_sum}。\"\n",
    "    return hint_text\n",
    "\n",
    "def generate_subtraction_hint(num1, num2):\n",
    "    # 引き算の筆算ヒントを生成\n",
    "    if (num1 % 10) < (num2 % 10):  # 繰り下がりが必要な場合\n",
    "        ones_place_diff = (num1 % 10 + 10) - (num2 % 10)\n",
    "        tens_place_diff = (num1 // 10 - 1) - (num2 // 10)\n",
    "        hint_text = f\"1の位が小さいため10を借ります: {num1 % 10 + 10} - {num2 % 10} = {ones_place_diff}。次に10の位を計算します: {num1 // 10 - 1} - {num2 // 10} = {tens_place_diff}。\"\n",
    "    else:\n",
    "        ones_place_diff = (num1 % 10) - (num2 % 10)\n",
    "        tens_place_diff = (num1 // 10) - (num2 // 10)\n",
    "        hint_text = f\"1の位を計算します: {num1 % 10} - {num2 % 10} = {ones_place_diff}。次に10の位を計算します: {num1 // 10} - {num2 // 10} = {tens_place_diff}。\"\n",
    "    return hint_text\n",
    "\n",
    "def generate_multiplication_hint(num1, num2):\n",
    "    # 掛け算の筆算ヒントを生成\n",
    "    ones_place_mul = (num2 % 10) * num1\n",
    "    tens_place_mul = (num2 // 10) * num1\n",
    "    hint_text = f\"1の位でかけます: {num1} × {num2 % 10} = {ones_place_mul}。次に10の位でかけます: {num1} × {num2 // 10} = {tens_place_mul}。最後に合計します: {ones_place_mul} + {tens_place_mul}。\"\n",
    "    return hint_text\n",
    "\n",
    "def generate_division_hint(num1, num2):\n",
    "    # 割り算の筆算ヒントを生成\n",
    "    quotient = num1 // num2\n",
    "    remainder = num1 % num2\n",
    "    hint_text = f\"商を求めます: {num1} ÷ {num2} = {quotient}、あまり {remainder}。\"\n",
    "    return hint_text\n",
    "\n",
    "# セッション1で生成された問題を表示\n",
    "display_problem_with_hint(problems)\n"
   ]
  },
  {
   "cell_type": "code",
   "execution_count": null,
   "id": "93fe98af-a6ee-45f2-8537-289f1cc7e0ab",
   "metadata": {},
   "outputs": [],
   "source": []
  }
 ],
 "metadata": {
  "kernelspec": {
   "display_name": "Python 3 (ipykernel)",
   "language": "python",
   "name": "python3"
  },
  "language_info": {
   "codemirror_mode": {
    "name": "ipython",
    "version": 3
   },
   "file_extension": ".py",
   "mimetype": "text/x-python",
   "name": "python",
   "nbconvert_exporter": "python",
   "pygments_lexer": "ipython3",
   "version": "3.8.13"
  }
 },
 "nbformat": 4,
 "nbformat_minor": 5
}
